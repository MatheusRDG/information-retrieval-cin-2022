{
 "cells": [
  {
   "cell_type": "markdown",
   "id": "a8bdc85c",
   "metadata": {},
   "source": [
    "# Project 1 - IR CIn UFPE 2022.1\n",
    "\n",
    "Author:\n",
    "\n",
    "Matheus Rodrigues de Souza Félix (matheusrdgsf@gmail.com) \\\n",
    "Rodrigo Melo"
   ]
  },
  {
   "cell_type": "markdown",
   "id": "b93b2b07",
   "metadata": {},
   "source": [
    "### Libs"
   ]
  },
  {
   "cell_type": "code",
   "execution_count": 4,
   "id": "acf48fc5",
   "metadata": {},
   "outputs": [],
   "source": [
    "import pandas as pd"
   ]
  },
  {
   "cell_type": "markdown",
   "id": "f7c323c7",
   "metadata": {},
   "source": [
    "### Data Collect"
   ]
  },
  {
   "cell_type": "code",
   "execution_count": 12,
   "id": "06d60e58",
   "metadata": {},
   "outputs": [],
   "source": [
    "data = pd.read_json(path_or_buf=\"./scidocs-generated-queries/train.jsonl\", lines=True)"
   ]
  },
  {
   "cell_type": "code",
   "execution_count": 13,
   "id": "7afd638d",
   "metadata": {},
   "outputs": [
    {
     "data": {
      "text/html": [
       "<div>\n",
       "<style scoped>\n",
       "    .dataframe tbody tr th:only-of-type {\n",
       "        vertical-align: middle;\n",
       "    }\n",
       "\n",
       "    .dataframe tbody tr th {\n",
       "        vertical-align: top;\n",
       "    }\n",
       "\n",
       "    .dataframe thead th {\n",
       "        text-align: right;\n",
       "    }\n",
       "</style>\n",
       "<table border=\"1\" class=\"dataframe\">\n",
       "  <thead>\n",
       "    <tr style=\"text-align: right;\">\n",
       "      <th></th>\n",
       "      <th>_id</th>\n",
       "      <th>title</th>\n",
       "      <th>text</th>\n",
       "      <th>query</th>\n",
       "    </tr>\n",
       "  </thead>\n",
       "  <tbody>\n",
       "    <tr>\n",
       "      <th>0</th>\n",
       "      <td>632589828c8b9fca2c3a59e97451fde8fa7d188d</td>\n",
       "      <td>A hybrid of genetic algorithm and particle swa...</td>\n",
       "      <td>An evolutionary recurrent network which automa...</td>\n",
       "      <td>what is gappso?</td>\n",
       "    </tr>\n",
       "    <tr>\n",
       "      <th>1</th>\n",
       "      <td>632589828c8b9fca2c3a59e97451fde8fa7d188d</td>\n",
       "      <td>A hybrid of genetic algorithm and particle swa...</td>\n",
       "      <td>An evolutionary recurrent network which automa...</td>\n",
       "      <td>what is recurrent neural networks</td>\n",
       "    </tr>\n",
       "    <tr>\n",
       "      <th>2</th>\n",
       "      <td>632589828c8b9fca2c3a59e97451fde8fa7d188d</td>\n",
       "      <td>A hybrid of genetic algorithm and particle swa...</td>\n",
       "      <td>An evolutionary recurrent network which automa...</td>\n",
       "      <td>what is hgapso</td>\n",
       "    </tr>\n",
       "    <tr>\n",
       "      <th>3</th>\n",
       "      <td>86e87db2dab958f1bd5877dc7d5b8105d6e31e46</td>\n",
       "      <td>A Hybrid EP and SQP for Dynamic Economic Dispa...</td>\n",
       "      <td>Dynamic economic dispatch (DED) is one of the ...</td>\n",
       "      <td>what is the ep used for</td>\n",
       "    </tr>\n",
       "    <tr>\n",
       "      <th>4</th>\n",
       "      <td>86e87db2dab958f1bd5877dc7d5b8105d6e31e46</td>\n",
       "      <td>A Hybrid EP and SQP for Dynamic Economic Dispa...</td>\n",
       "      <td>Dynamic economic dispatch (DED) is one of the ...</td>\n",
       "      <td>what is dynamic economic dispatch</td>\n",
       "    </tr>\n",
       "    <tr>\n",
       "      <th>...</th>\n",
       "      <td>...</td>\n",
       "      <td>...</td>\n",
       "      <td>...</td>\n",
       "      <td>...</td>\n",
       "    </tr>\n",
       "    <tr>\n",
       "      <th>74788</th>\n",
       "      <td>2a4423b10725e54ad72f4f1fcf77db5bc835f0a6</td>\n",
       "      <td>Optimization by simulated annealing.</td>\n",
       "      <td>There is a deep and useful connection between ...</td>\n",
       "      <td>what is the theory of annealing</td>\n",
       "    </tr>\n",
       "    <tr>\n",
       "      <th>74789</th>\n",
       "      <td>2a4423b10725e54ad72f4f1fcf77db5bc835f0a6</td>\n",
       "      <td>Optimization by simulated annealing.</td>\n",
       "      <td>There is a deep and useful connection between ...</td>\n",
       "      <td>annealing in solids definition</td>\n",
       "    </tr>\n",
       "    <tr>\n",
       "      <th>74790</th>\n",
       "      <td>dec997b20ebe2b867f68cc5c123d9cb9eafad6bb</td>\n",
       "      <td>Deriving optimal weights in deep neural networks</td>\n",
       "      <td>Training deep neural networks generally requir...</td>\n",
       "      <td>how to train neural networks</td>\n",
       "    </tr>\n",
       "    <tr>\n",
       "      <th>74791</th>\n",
       "      <td>dec997b20ebe2b867f68cc5c123d9cb9eafad6bb</td>\n",
       "      <td>Deriving optimal weights in deep neural networks</td>\n",
       "      <td>Training deep neural networks generally requir...</td>\n",
       "      <td>can you derive weights from gradient descent</td>\n",
       "    </tr>\n",
       "    <tr>\n",
       "      <th>74792</th>\n",
       "      <td>dec997b20ebe2b867f68cc5c123d9cb9eafad6bb</td>\n",
       "      <td>Deriving optimal weights in deep neural networks</td>\n",
       "      <td>Training deep neural networks generally requir...</td>\n",
       "      <td>how to get the optimal model for neural networks</td>\n",
       "    </tr>\n",
       "  </tbody>\n",
       "</table>\n",
       "<p>74793 rows × 4 columns</p>\n",
       "</div>"
      ],
      "text/plain": [
       "                                            _id  \\\n",
       "0      632589828c8b9fca2c3a59e97451fde8fa7d188d   \n",
       "1      632589828c8b9fca2c3a59e97451fde8fa7d188d   \n",
       "2      632589828c8b9fca2c3a59e97451fde8fa7d188d   \n",
       "3      86e87db2dab958f1bd5877dc7d5b8105d6e31e46   \n",
       "4      86e87db2dab958f1bd5877dc7d5b8105d6e31e46   \n",
       "...                                         ...   \n",
       "74788  2a4423b10725e54ad72f4f1fcf77db5bc835f0a6   \n",
       "74789  2a4423b10725e54ad72f4f1fcf77db5bc835f0a6   \n",
       "74790  dec997b20ebe2b867f68cc5c123d9cb9eafad6bb   \n",
       "74791  dec997b20ebe2b867f68cc5c123d9cb9eafad6bb   \n",
       "74792  dec997b20ebe2b867f68cc5c123d9cb9eafad6bb   \n",
       "\n",
       "                                                   title  \\\n",
       "0      A hybrid of genetic algorithm and particle swa...   \n",
       "1      A hybrid of genetic algorithm and particle swa...   \n",
       "2      A hybrid of genetic algorithm and particle swa...   \n",
       "3      A Hybrid EP and SQP for Dynamic Economic Dispa...   \n",
       "4      A Hybrid EP and SQP for Dynamic Economic Dispa...   \n",
       "...                                                  ...   \n",
       "74788               Optimization by simulated annealing.   \n",
       "74789               Optimization by simulated annealing.   \n",
       "74790   Deriving optimal weights in deep neural networks   \n",
       "74791   Deriving optimal weights in deep neural networks   \n",
       "74792   Deriving optimal weights in deep neural networks   \n",
       "\n",
       "                                                    text  \\\n",
       "0      An evolutionary recurrent network which automa...   \n",
       "1      An evolutionary recurrent network which automa...   \n",
       "2      An evolutionary recurrent network which automa...   \n",
       "3      Dynamic economic dispatch (DED) is one of the ...   \n",
       "4      Dynamic economic dispatch (DED) is one of the ...   \n",
       "...                                                  ...   \n",
       "74788  There is a deep and useful connection between ...   \n",
       "74789  There is a deep and useful connection between ...   \n",
       "74790  Training deep neural networks generally requir...   \n",
       "74791  Training deep neural networks generally requir...   \n",
       "74792  Training deep neural networks generally requir...   \n",
       "\n",
       "                                                  query  \n",
       "0                                       what is gappso?  \n",
       "1                     what is recurrent neural networks  \n",
       "2                                        what is hgapso  \n",
       "3                               what is the ep used for  \n",
       "4                     what is dynamic economic dispatch  \n",
       "...                                                 ...  \n",
       "74788                   what is the theory of annealing  \n",
       "74789                    annealing in solids definition  \n",
       "74790                      how to train neural networks  \n",
       "74791      can you derive weights from gradient descent  \n",
       "74792  how to get the optimal model for neural networks  \n",
       "\n",
       "[74793 rows x 4 columns]"
      ]
     },
     "execution_count": 13,
     "metadata": {},
     "output_type": "execute_result"
    }
   ],
   "source": [
    "data"
   ]
  },
  {
   "cell_type": "markdown",
   "id": "b47c9b7f",
   "metadata": {},
   "source": [
    "## Pre-rocesing Data\n",
    "\n",
    "In this step we will create 5 data models:\n",
    "\n",
    "v1 - Only Tokenization; \\\n",
    "v2 - Only Stopword Filter; \\\n",
    "v3 - Only Stemming; \\\n",
    "v4 - Remove Stopwords and Stemming; \\\n",
    "v5 - Remove Stopworpd and expand words with Synonyms.\n"
   ]
  },
  {
   "cell_type": "code",
   "execution_count": 14,
   "id": "4e67de11",
   "metadata": {},
   "outputs": [
    {
     "name": "stderr",
     "output_type": "stream",
     "text": [
      "fatal: cannot mkdir https://github.com/MatheusRDG/information-retrieval-cin-2022: Invalid argument\n"
     ]
    }
   ],
   "source": []
  },
  {
   "cell_type": "markdown",
   "id": "489658fb",
   "metadata": {},
   "source": [
    "### Vectorizing Data"
   ]
  },
  {
   "cell_type": "code",
   "execution_count": null,
   "id": "57d9c22e",
   "metadata": {},
   "outputs": [],
   "source": []
  },
  {
   "cell_type": "markdown",
   "id": "639f6be5",
   "metadata": {},
   "source": [
    "### Evaluation"
   ]
  },
  {
   "cell_type": "code",
   "execution_count": null,
   "id": "bc4b3eb6",
   "metadata": {},
   "outputs": [],
   "source": []
  }
 ],
 "metadata": {
  "kernelspec": {
   "display_name": "ir_venv",
   "language": "python",
   "name": "ir_venv"
  },
  "language_info": {
   "codemirror_mode": {
    "name": "ipython",
    "version": 3
   },
   "file_extension": ".py",
   "mimetype": "text/x-python",
   "name": "python",
   "nbconvert_exporter": "python",
   "pygments_lexer": "ipython3",
   "version": "3.9.12"
  }
 },
 "nbformat": 4,
 "nbformat_minor": 5
}
