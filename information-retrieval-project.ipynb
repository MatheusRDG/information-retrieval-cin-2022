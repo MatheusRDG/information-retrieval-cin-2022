{
 "cells": [
  {
   "cell_type": "markdown",
   "id": "a8bdc85c",
   "metadata": {},
   "source": [
    "# Relatório e Projeto - Sistema de indexação e busca de documentos\n",
    "\n",
    "## 1 - Informações da equipe\n",
    "---\n",
    "IN1152 - Recuperação Inteligente de Informação - 2022.2\n",
    "\n",
    "**Equipe**: Matheus Rodrigues de Souza Félix (matheusrdgsf@gmail.com) e Rodrigo Souza de Melo (rsm5@cin.ufpe.br)\n",
    "\n",
    "**Projeto \"Sistema de indexação e busca de documentos\"**\n",
    "\n",
    "Professora Flavia de Almeida Barros (fab@cin.ufpe.br)\n",
    "\n",
    "- Este relatório apresentará as seções solicitadas no Trabalho 1 - Sistema de indexação e busca de documentos. E mais abaixo o código-fonte do projeto\n",
    "\n",
    "---"
   ]
  },
  {
   "cell_type": "markdown",
   "id": "fe2e6786",
   "metadata": {},
   "source": [
    "## 2 - Descrição dos documentos (corpus) que serão indexados pelo sistema\n",
    "---\n",
    "\n",
    " - 2 Temas/tópicos dos documentos da sua base\n",
    " - Mostrar no relatório 2 ou 3 exemplos de documentos do corpus\n",
    " \n",
    " - BEIR [1] é um benchmark heterogêneo contendo diversas tarefas de RI. Ele também fornece uma estrutura comum e fácil para avaliação de seus modelos de recuperação baseados em PNL. Dentre as opções do BEIR foi selecionado o SciFact.\n",
    " - SciFact [4]: Devido ao rápido crescimento da literatura científica, há a necessidade de sistemas automatizados para auxiliar pesquisadores e o público na avaliação da veracidade das afirmações científicas. Para facilitar o desenvolvimento de sistemas para essa tarefa, é utilizado o SciFact, um conjunto de dados de 1,4 mil declarações escritas por especialistas, combinadas com resumos contendo evidências anotados com rótulos e justificativas de veracidade.\n",
    " - Leaderboard [4]: Avalia submissões de modelos no conjunto de dados SciFact, com o objetivo de desenvolver sistemas automatizados para verificação de alegações científicas.\n",
    " - Dataset [2]: Formando pelos elementos abaixo.\n",
    "   - corpus: Representa o título e o texto do documento\n",
    "   - query: Representa a consulta\n",
    "   - qrels: Representa a relevância das consulta(s) realizada(s)\n",
    "   \n",
    " - Exemplo de uma estrutura do documento com 2 queries, 2 documentos e as relevâncias de cada consulta [2].\n",
    "\n",
    "~~~json\n",
    "corpus = {\n",
    "    \"doc1\" : {\n",
    "        \"title\": \"Albert Einstein\", \n",
    "        \"text\": \"Albert Einstein was a German-born theoretical physicist. who developed the theory of relativity, \\\n",
    "                 one of the two pillars of modern physics (alongside quantum mechanics). His work is also known for \\\n",
    "                 its influence on the philosophy of science. He is best known to the general public for his massâ€“energy \\\n",
    "                 equivalence formula E = mc2, which has been dubbed 'the world's most famous equation'. He received the 1921 \\\n",
    "                 Nobel Prize in Physics 'for his services to theoretical physics, and especially for his discovery of the law \\\n",
    "                 of the photoelectric effect', a pivotal step in the development of quantum theory.\"\n",
    "        },\n",
    "    \"doc2\" : {\n",
    "        \"title\": \"\", # Keep title an empty string if not present\n",
    "        \"text\": \"Wheat beer is a top-fermented beer which is brewed with a large proportion of wheat relative to the amount of \\\n",
    "                 malted barley. The two main varieties are German WeiÃŸbier and Belgian witbier; other types include Lambic (made\\\n",
    "                 with wild yeast), Berliner Weisse (a cloudy, sour beer), and Gose (a sour, salty beer).\"\n",
    "    },\n",
    "}\n",
    "\n",
    "queries = {\n",
    "    \"q1\" : \"Who developed the mass-energy equivalence formula?\",\n",
    "    \"q2\" : \"Which beer is brewed with a large proportion of wheat?\"\n",
    "}\n",
    "\n",
    "qrels = {\n",
    "    \"q1\" : {\"doc1\": 1},\n",
    "    \"q2\" : {\"doc2\": 1},\n",
    "}\n",
    "~~~\n",
    " \n",
    " Referências: \n",
    " * [1] https://github.com/beir-cellar/beir\n",
    " * [2] https://huggingface.co/datasets/BeIR/scifact-generated-queries\n",
    " * [3] https://github.com/allenai/scifact\n",
    " * [4] https://leaderboard.allenai.org/scifact/submissions/about\n",
    "              \n",
    "\n",
    "---"
   ]
  },
  {
   "cell_type": "markdown",
   "id": "1004999a",
   "metadata": {},
   "source": [
    "## 3 - Arquitetura do sistema \n",
    "---\n",
    "\n",
    "- Prover uma descrição breve das etapas de processamento do sistema construído com base na ferramenta escolhida. Informar qual é o modelo de RI implementado pelo seu sistema, qual a fórmula para cálculo dos pesos e qual a função de ranking (vejam as aulas de modelos de RI). \n",
    "\n",
    "---"
   ]
  },
  {
   "cell_type": "markdown",
   "id": "592246a8",
   "metadata": {},
   "source": [
    "## 4 - Criação das bases de documentos indexados \n",
    "---\n",
    "\n",
    "- Preparação & Indexação dos documentos: O sistema deve criar, de forma automática, cinco BASES indexadas a partir da base original de documentos. Cada BASE (no Solr, são COREs) deve utilizar processos diferentes na preparação (pré-processamento) dos dados. O objetivo é verificar qual é a melhor configuração de pré-processamento para o seu caso.\n",
    "\n",
    "   - BASE 1: documentos originais, sem nenhum pré-processamento extra (só tokenização);\n",
    "   - BASE 2: apenas eliminar stopwords (usar filtro de stopwords);\n",
    "   - BASE 3: apenas usar stemming, sem eliminar as stopwords (não usar filtro de stopwords);\n",
    "   - BASE 4: eliminar stopwords (usar filtro de stopwords) e usar stemming;\n",
    "   - BASE 5: eliminar stopwords (usar filtro de stopwords), não usar stemming, e usar dicionário de sinônimos.\n",
    "\n",
    "\n",
    "---\n"
   ]
  },
  {
   "cell_type": "markdown",
   "id": "6b3103f4",
   "metadata": {},
   "source": [
    "## 5 - Criação das consultas e Criação da Matriz de relevância  \n",
    "---\n",
    "\n",
    "- Prover uma descrição breve das etapas de processamento do sistema construído com base na ferramenta escolhida. Informar qual é o modelo de RI implementado pelo seu sistema, qual a fórmula para cálculo dos pesos e qual a função de ranking (vejam as aulas de modelos de RI). \n",
    "\n",
    "- Esta etapa foi descrita em mais detalhes na atividade correspondente, postada no Classroom. \n",
    "  ===> DÚVIDA: NÃO ENCONTREI OS DETALHES NO CLASSROOM.\n",
    "  \n",
    "- Mostrar aqui parte da matriz - basta mostrar as 5 colunas exemplificadas abaixo (incluindo a coluna final com a quantidade de documentos relevantes). \n",
    "\n",
    "Exemplo de Matriz de relevância “Consultas x Documentos”.\n",
    "\n",
    "\n",
    "|                                                                      | Doc 1 | Doc 2 | ... Doc 20 | Qtd de docs relevantes |   |   |   |   |   |\n",
    "|----------------------------------------------------------------------|-------|-------|------------|------------------------|---|---|---|---|---|\n",
    "| Consulta1 Ex.:  como faço o agendamento para tomar vacina de covid ? | 1     | 0     | 1          | 10                     |   |   |   |   |   |\n",
    "| Consulta2 Ex.: Qual o preço de carro FIAT UNO usado ?                     | 1     | 1     | 0          | 15                     |   |   |   |   |   |\n",
    "\n",
    "\n",
    "\n",
    "\n",
    "---"
   ]
  },
  {
   "cell_type": "markdown",
   "id": "679b56ca",
   "metadata": {},
   "source": [
    "## 6 - Testes/Avaliação \n",
    "---\n",
    "\n",
    "- Submeter as 2 consultas para cada BASE criada, e avaliar cada resultado separadamente -  i.e., calcular separadamente a precisão e a cobertura de cada consulta em relação a cada BASE criada. \n",
    "- Usar as fórmulas vistas em aula: precisão, cobertura e F-measure. \n",
    "- Incluir no relatório uma matriz de resultados para CADA consulta. Assim podemos ver a influência do pré-processamento dos documentos no resultado final do sistema.\n",
    "\n",
    "\n",
    "\n",
    "\n",
    "\n",
    "Matriz de resultados para a Consulta 1\n",
    "- Consulta: incluam aqui o texto da consulta avaliada nessa matriz\n",
    "- Qtd de documentos relevantes: ver matriz de relevância (avaliação manual)\n",
    "\n",
    "|  | **Precisão** | **Cobertura** | **F-measure** | **Qtd de Docs relevantes retornados pela  consulta 1** | **Qtd total de documentos retornados pela consulta 1** |\n",
    "|:--------:|:------------:|:-------------:|:-------------:|:------------------------------------------------------:|:------------------------------------------------------:|\n",
    "| BASE 1   |              |               |               |                                                        |                                                        |\n",
    "| BASE 2   |              |               |               |                                                        |                                                        |\n",
    "| BASE 3   |              |               |               |                                                        |                                                        |\n",
    "| BASE 4   |              |               |               |                                                        |                                                        |\n",
    "| BASE 5   |              |               |               |                                                        |                                                        |\n",
    "\n",
    "\n",
    "\n",
    "\n",
    "\n",
    "Matriz de resultados para a Consulta 2\n",
    "- Consulta: incluam aqui o texto da consulta avaliada nessa matriz\n",
    "- Qtd de documentos relevantes: ver matriz de relevância (avaliação manual)\n",
    "\n",
    "|  | **Precisão** | **Cobertura** | **F-measure** | **Qtd de Docs relevantes retornados pela  consulta 2** | **Qtd total de documentos retornados pela consulta 2** |\n",
    "|:--------:|:------------:|:-------------:|:-------------:|:------------------------------------------------------:|:------------------------------------------------------:|\n",
    "| BASE 1   |              |               |               |                                                        |                                                        |\n",
    "| BASE 2   |              |               |               |                                                        |                                                        |\n",
    "| BASE 3   |              |               |               |                                                        |                                                        |\n",
    "| BASE 4   |              |               |               |                                                        |                                                        |\n",
    "| BASE 5   |              |               |               |                                                        |                                                        |\n",
    "\n",
    "\n",
    "\n",
    "\n",
    "Matriz de resultados para o Sistema\n",
    "- As medidas de precisão, cobertura e F-meause do sistema serão obtidas calculando-se a média entre os resultados obtidos com cada consulta em relação a cada BASE criado.\n",
    "\n",
    "\n",
    "|        | Precisão média | Cobertura média | F-measure média |\n",
    "|--------|----------------|-----------------|-----------------|\n",
    "| BASE 1 |                |                 |                 |\n",
    "| BASE 2 |                |                 |                 |\n",
    "| BASE 3 |                |                 |                 |\n",
    "| BASE 4 |                |                 |                 |\n",
    "| BASE 5 |                |                 |                 |\n",
    "\n",
    "\n",
    "---\n",
    "\n",
    " "
   ]
  },
  {
   "cell_type": "markdown",
   "id": "9f679cfd",
   "metadata": {},
   "source": [
    "## 7 - Conclusão \n",
    "---\n",
    "\n",
    "- Deve conter um texto curto explicando o que vocês concluíram a partir do resultado dos testes (tabelas acima).\n",
    "\n",
    "---"
   ]
  },
  {
   "cell_type": "markdown",
   "id": "e96d96b6",
   "metadata": {},
   "source": [
    "## Código-fonte do projeto"
   ]
  },
  {
   "cell_type": "markdown",
   "id": "b93b2b07",
   "metadata": {},
   "source": [
    "### Configurações"
   ]
  },
  {
   "cell_type": "code",
   "execution_count": 1,
   "id": "1500d48d",
   "metadata": {},
   "outputs": [],
   "source": [
    "#!pip install GitPython"
   ]
  },
  {
   "cell_type": "markdown",
   "id": "dfce8c72",
   "metadata": {},
   "source": [
    "### Libs"
   ]
  },
  {
   "cell_type": "code",
   "execution_count": 98,
   "id": "acf48fc5",
   "metadata": {},
   "outputs": [
    {
     "name": "stderr",
     "output_type": "stream",
     "text": [
      "[nltk_data] Downloading package punkt to\n",
      "[nltk_data]     C:\\Users\\Matheus\\AppData\\Roaming\\nltk_data...\n",
      "[nltk_data]   Package punkt is already up-to-date!\n",
      "[nltk_data] Downloading package stopwords to\n",
      "[nltk_data]     C:\\Users\\Matheus\\AppData\\Roaming\\nltk_data...\n",
      "[nltk_data]   Package stopwords is already up-to-date!\n"
     ]
    }
   ],
   "source": [
    "import os\n",
    "import pandas as pd\n",
    "from git import Repo\n",
    "import gzip\n",
    "from io import BytesIO\n",
    "import gzip\n",
    "\n",
    "from sklearn.metrics import confusion_matrix, classification_report #Utilizado para calcular a matrix de confusão e Relatório de classificação - Checar outra forma para remover o warning e não utilizar o parâmetro zero_division=1 no recall_score \n",
    "\n",
    "import nltk\n",
    "from nltk.corpus import stopwords\n",
    "from nltk.tokenize import word_tokenize\n",
    "from nltk.stem.snowball import SnowballStemmer\n",
    "import unidecode\n",
    "import string\n",
    "import re\n",
    "\n",
    "nltk.download('punkt')\n",
    "nltk.download('stopwords')\n",
    "\n",
    "from sklearn.feature_extraction.text import TfidfVectorizer\n",
    "\n",
    "from scipy import spatial\n",
    "from sklearn.neighbors import NearestNeighbors\n",
    "\n",
    "from sklearn.metrics import precision_score, f1_score, recall_score"
   ]
  },
  {
   "cell_type": "markdown",
   "id": "f7c323c7",
   "metadata": {},
   "source": [
    "### Data Collect Scifact"
   ]
  },
  {
   "cell_type": "code",
   "execution_count": 55,
   "id": "6c8c1267",
   "metadata": {},
   "outputs": [],
   "source": [
    "# DATA_PATH = \"dataset/scifact-generated-queries\""
   ]
  },
  {
   "cell_type": "code",
   "execution_count": 56,
   "id": "0ae5261c",
   "metadata": {},
   "outputs": [],
   "source": [
    "# if not os.path.isdir(DATA_PATH):\n",
    "#     Repo.clone_from(\"https://huggingface.co/datasets/BeIR/scifact-generated-queries\", \"dataset/scifact-generated-queries\")"
   ]
  },
  {
   "cell_type": "code",
   "execution_count": 57,
   "id": "9567a207",
   "metadata": {},
   "outputs": [],
   "source": [
    "# with gzip.open(DATA_PATH+\"/train.jsonl.gz\", 'rb') as f:\n",
    "#     file_content = f.read()"
   ]
  },
  {
   "cell_type": "code",
   "execution_count": 58,
   "id": "408b3272",
   "metadata": {},
   "outputs": [],
   "source": [
    "# dataset = pd.read_json(BytesIO(file_content), lines=True)"
   ]
  },
  {
   "cell_type": "code",
   "execution_count": 99,
   "id": "75057d58",
   "metadata": {},
   "outputs": [],
   "source": [
    "# dataset.groupby([\"title\"]).size().reset_index(name='queries_count')"
   ]
  },
  {
   "cell_type": "markdown",
   "id": "41ab72ed",
   "metadata": {},
   "source": [
    "### Data Collect 20News Labeled"
   ]
  },
  {
   "cell_type": "code",
   "execution_count": 100,
   "id": "157e7695",
   "metadata": {},
   "outputs": [],
   "source": [
    "DATA_PATH = \"20news_labeled.csv\""
   ]
  },
  {
   "cell_type": "code",
   "execution_count": 136,
   "id": "6fbd9d8f",
   "metadata": {},
   "outputs": [],
   "source": [
    "dataset = pd.read_csv(DATA_PATH)\n",
    "dataset.dropna(inplace=True)"
   ]
  },
  {
   "cell_type": "code",
   "execution_count": 137,
   "id": "85f81702",
   "metadata": {},
   "outputs": [
    {
     "data": {
      "text/html": [
       "<div>\n",
       "<style scoped>\n",
       "    .dataframe tbody tr th:only-of-type {\n",
       "        vertical-align: middle;\n",
       "    }\n",
       "\n",
       "    .dataframe tbody tr th {\n",
       "        vertical-align: top;\n",
       "    }\n",
       "\n",
       "    .dataframe thead th {\n",
       "        text-align: right;\n",
       "    }\n",
       "</style>\n",
       "<table border=\"1\" class=\"dataframe\">\n",
       "  <thead>\n",
       "    <tr style=\"text-align: right;\">\n",
       "      <th></th>\n",
       "      <th>_id</th>\n",
       "      <th>text</th>\n",
       "      <th>target</th>\n",
       "      <th>q1</th>\n",
       "      <th>q2</th>\n",
       "    </tr>\n",
       "  </thead>\n",
       "  <tbody>\n",
       "    <tr>\n",
       "      <th>0</th>\n",
       "      <td>0</td>\n",
       "      <td>Library of Congress to Host Dead Sea Scroll Symposium April 21-22 To: National and Assignment desks, Daybook Editor Contact: John Sullivan, 202-707-9216, or Lucy Suddreth, 202-707-9191          both of the Library of Congress   WASHINGTON, April 19  -- A symposium on the Dead Sea Scrolls will be held at the Library of Congress on Wednesday,April 21, and Thursday, April 22.  The two-day program, cosponsoredby the library and Baltimore Hebrew University, with additionalsupport from the Project Judaica Foundation, will be held in thelibrary's Mumford Room, sixth floor, Madison Building.   Seating is limited, and admission to any session of the symposiummust be requested in writing (see Note A).   The symposium will be held one week before the public opening of amajor exhibition, \"Scrolls from the Dead Sea: The Ancient Library ofQumran and Modern Scholarship,\" that opens at the Library of Congresson April 29.  On view will be fragmentary scrolls and archaeologicalartifacts excavated at Qumran, on loan from the Israel AntiquitiesAuthority.  Approximately 50 items from Library of Congress specialcollections will augment these materials.  The exhibition, on view inthe Madison Gallery, through Aug. 1, is made possible by a generousgift from the Project Judaica Foundation of Washington, D.C.   The Dead Sea Scrolls have been the focus of public and scholarlyinterest since 1947, when they were discovered in the desert 13 mileseast of Jerusalem.  The symposium will explore the origin and meaningof the scrolls and current scholarship.  Scholars from diverseacademic backgrounds and religious affiliations, will offer theirdisparate views, ensuring a lively discussion.   The symposium schedule includes opening remarks on April 21, at2 p.m., by Librarian of Congress James H. Billington, and byDr. Norma Furst, president, Baltimore Hebrew University.  Co-chairingthe symposium are Joseph Baumgarten, professor of Rabbinic Literatureand Institutions, Baltimore Hebrew University and Michael Grunberger,head, Hebraic Section, Library of Congress.   Geza Vermes, professor emeritus of Jewish studies, OxfordUniversity, will give the keynote address on the current state ofscroll research, focusing on where we stand today. On the secondday, the closing address will be given by Shmaryahu Talmon, who willpropose a research agenda, picking up the theme of how the Qumranstudies might proceed.   On Wednesday, April 21, other speakers will include:   -- Eugene Ulrich, professor of Hebrew Scriptures, University ofNotre Dame and chief editor, Biblical Scrolls from Qumran, on \"TheBible at Qumran;\"   -- Michael Stone, National Endowment for the Humanitiesdistinguished visiting professor of religious studies, University ofRichmond, on \"The Dead Sea Scrolls and the Pseudepigrapha.\"   -- From 5 p.m. to 6:30 p.m. a special preview of the exhibitionwill be given to symposium participants and guests.   On Thursday, April 22, beginning at 9 a.m., speakers will include:   -- Magen Broshi, curator, shrine of the Book, Israel Museum,Jerusalem, on \"Qumran: The Archaeological Evidence;\"   -- P. Kyle McCarter, Albright professor of Biblical and ancientnear Eastern studies, The Johns Hopkins University, on \"The CopperScroll;\"   -- Lawrence H. Schiffman, professor of Hebrew and Judaic studies,New York University, on \"The Dead Sea Scrolls and the History ofJudaism;\" and   -- James VanderKam, professor of theology, University of NotreDame, on \"Messianism in the Scrolls and in Early Christianity.\"   The Thursday afternoon sessions, at 1:30 p.m., include:   -- Devorah Dimant, associate professor of Bible and Ancient JewishThought, University of Haifa, on \"Qumran Manuscripts: Library of aJewish Community;\"   -- Norman Golb, Rosenberger professor of Jewish history andcivilization, Oriental Institute, University of Chicago, on \"TheCurrent Status of the Jerusalem Origin of the Scrolls;\"   -- Shmaryahu Talmon, J.L. Magnas professor emeritus of Biblicalstudies, Hebrew University, Jerusalem, on \"The Essential 'Commune ofthe Renewed Covenant': How Should Qumran Studies Proceed?\" will closethe symposium.   There will be ample time for question and answer periods at theend of each session.   Also on Wednesday, April 21, at 11 a.m.:   The Library of Congress and The Israel Antiquities Authoritywill hold a lecture by Esther Boyd-Alkalay, consulting conservator,Israel Antiquities Authority, on \"Preserving the Dead Sea Scrolls\"in the Mumford Room, LM-649, James Madison Memorial Building, TheLibrary of Congress, 101 Independence Ave., S.E., Washington, D.C.    ------   NOTE A: For more information about admission to the symposium,please contact, in writing, Dr. Michael Grunberger, head, HebraicSection, African and Middle Eastern Division, Library of Congress,Washington, D.C. 20540. -30-</td>\n",
       "      <td>christian</td>\n",
       "      <td>0</td>\n",
       "      <td>0</td>\n",
       "    </tr>\n",
       "    <tr>\n",
       "      <th>1</th>\n",
       "      <td>1</td>\n",
       "      <td>Anyone who dies for a \"cause\" runs the risk of dying for a lie.  As forpeople being able to tell if he was a liar, well, we've had grifters andcharlatans since the beginning of civilization.  If David Copperfield hadbeen the Messiah, I bet he could have found plenty of believers.  Jesus was hardly the first to claim to be a faith healer, and he wasn't thefirst to be \"witnessed.\"  What sets him apart?Rubbish.  Nations have followed crazies, liars, psychopaths, and megalomaniacs throughout history.  Hitler, Tojo, Mussolini, Khomeini,Qadaffi, Stalin, Papa Doc, and Nixon come to mind...all from this century.Koresh is a non-issue.Take a discrete mathematics or formal logic course.  There are flaws in yourlogic everywhere.  And as I'm sure others will tell you, read the FAQ!Of course, you have to believe the Bible first.  Just because something iswritten in the Bible does not mean it is true, and the age of that tome plusthe lack of external supporting evidence makes it less credible.  So if youdo quote from the Bible in the future, try to back up that quote with supporting evidence.  Otherwise, you will get flamed mercilessly.Just like weight lifting or guitar playing, eh?  I don't know how you define the world \"total,\" but I would imagine a \"total sacrafice [sp]of everything for God's sake\" would involve more than a time commitment.You are correct about our tendency to \"box everything into time units.\"Would you explain HOW one should involove God in sports and (hehehe)television?</td>\n",
       "      <td>altheism</td>\n",
       "      <td>1</td>\n",
       "      <td>0</td>\n",
       "    </tr>\n",
       "    <tr>\n",
       "      <th>2</th>\n",
       "      <td>2</td>\n",
       "      <td>Woah...The context is about God's calling out a special people (the Jews) tocarry the \"promise.\"  To read the meaning as literal people is to miss Paul'sentire point.  I'd be glad to send anyone more detailed explanations of thispassage if interested.</td>\n",
       "      <td>christian</td>\n",
       "      <td>0</td>\n",
       "      <td>0</td>\n",
       "    </tr>\n",
       "    <tr>\n",
       "      <th>3</th>\n",
       "      <td>3</td>\n",
       "      <td>See, there you go again, saying that a moral act is only significantif it is \"voluntary.\"  Why do you think this?And anyway, humans have the ability to disregard some of their instincts.You are attaching too many things to the term \"moral,\" I think.Let's try this:  is it \"good\" that animals of the same speciesdon't kill each other.  Or, do you think this is right? Or do you think that animals are machines, and that nothing they dois either right nor wrong?Those weren't arbitrary killings.  They were slayings related to some sortof mating ritual or whatnot.Yes it was, but I still don't understand your distinctions.  Whatdo you mean by \"consider?\"  Can a small child be moral?  How abouta gorilla?  A dolphin?  A platypus?  Where is the line drawn?  Doesthe being need to be self aware?What *do* you call the mechanism which seems to prevent animals ofthe same species from (arbitrarily) killing each other?  Don'tyou find the fact that they don't at all significant?</td>\n",
       "      <td>altheism</td>\n",
       "      <td>0</td>\n",
       "      <td>1</td>\n",
       "    </tr>\n",
       "    <tr>\n",
       "      <th>4</th>\n",
       "      <td>4</td>\n",
       "      <td>The last sentence is ironic, since so many readers ofsoc.religion.christian seem to not be embarrassed by apologists such asJosh McDowell and C.S. Lewis. The above also expresses a rather odd senseof history. What makes you think the masses in Aquinas' day, who weremostly illiterate, knew any more about rhetoric and logic than most peopletoday? If writings from the period seem elevated consider that only thecream of the crop, so to speak, could read and write. If everyone inthe medieval period \"knew the rules\" it was a matter of uncriticallyaccepting what they were told.Bill Mayne</td>\n",
       "      <td>christian</td>\n",
       "      <td>0</td>\n",
       "      <td>0</td>\n",
       "    </tr>\n",
       "  </tbody>\n",
       "</table>\n",
       "</div>"
      ],
      "text/plain": [
       "   _id  \\\n",
       "0    0   \n",
       "1    1   \n",
       "2    2   \n",
       "3    3   \n",
       "4    4   \n",
       "\n",
       "                                                                                                                                                                                                                                                                                                                                                                                                                                                                                                                                                                                                                                                                                                                                                                                                                                                                                                                                                                                                                                                                                                                                                                                                                                                                                                                                                                                                                                                                                                                                                                                                                                                                                                                                                                                                                                                                                                                                                                                                                                                                                                                                                                                                                                                                                                                                                                                                                                                                                                                                                                                                                                                                                                                                                                                                                                                                                                                                                                                                                                                                                                                                                                                                                                                                                                                                                                                                                                                                                                                                                                                                                                                                                                                                                                                                                                                                                                                                                                                                                                                                                                                                                                                                                                                                                                                                                                                                                                                                                                                                                                                                                                                                                                                                                                                                                                                                                                                                                                                                  text  \\\n",
       "0  Library of Congress to Host Dead Sea Scroll Symposium April 21-22 To: National and Assignment desks, Daybook Editor Contact: John Sullivan, 202-707-9216, or Lucy Suddreth, 202-707-9191          both of the Library of Congress   WASHINGTON, April 19  -- A symposium on the Dead Sea Scrolls will be held at the Library of Congress on Wednesday,April 21, and Thursday, April 22.  The two-day program, cosponsoredby the library and Baltimore Hebrew University, with additionalsupport from the Project Judaica Foundation, will be held in thelibrary's Mumford Room, sixth floor, Madison Building.   Seating is limited, and admission to any session of the symposiummust be requested in writing (see Note A).   The symposium will be held one week before the public opening of amajor exhibition, \"Scrolls from the Dead Sea: The Ancient Library ofQumran and Modern Scholarship,\" that opens at the Library of Congresson April 29.  On view will be fragmentary scrolls and archaeologicalartifacts excavated at Qumran, on loan from the Israel AntiquitiesAuthority.  Approximately 50 items from Library of Congress specialcollections will augment these materials.  The exhibition, on view inthe Madison Gallery, through Aug. 1, is made possible by a generousgift from the Project Judaica Foundation of Washington, D.C.   The Dead Sea Scrolls have been the focus of public and scholarlyinterest since 1947, when they were discovered in the desert 13 mileseast of Jerusalem.  The symposium will explore the origin and meaningof the scrolls and current scholarship.  Scholars from diverseacademic backgrounds and religious affiliations, will offer theirdisparate views, ensuring a lively discussion.   The symposium schedule includes opening remarks on April 21, at2 p.m., by Librarian of Congress James H. Billington, and byDr. Norma Furst, president, Baltimore Hebrew University.  Co-chairingthe symposium are Joseph Baumgarten, professor of Rabbinic Literatureand Institutions, Baltimore Hebrew University and Michael Grunberger,head, Hebraic Section, Library of Congress.   Geza Vermes, professor emeritus of Jewish studies, OxfordUniversity, will give the keynote address on the current state ofscroll research, focusing on where we stand today. On the secondday, the closing address will be given by Shmaryahu Talmon, who willpropose a research agenda, picking up the theme of how the Qumranstudies might proceed.   On Wednesday, April 21, other speakers will include:   -- Eugene Ulrich, professor of Hebrew Scriptures, University ofNotre Dame and chief editor, Biblical Scrolls from Qumran, on \"TheBible at Qumran;\"   -- Michael Stone, National Endowment for the Humanitiesdistinguished visiting professor of religious studies, University ofRichmond, on \"The Dead Sea Scrolls and the Pseudepigrapha.\"   -- From 5 p.m. to 6:30 p.m. a special preview of the exhibitionwill be given to symposium participants and guests.   On Thursday, April 22, beginning at 9 a.m., speakers will include:   -- Magen Broshi, curator, shrine of the Book, Israel Museum,Jerusalem, on \"Qumran: The Archaeological Evidence;\"   -- P. Kyle McCarter, Albright professor of Biblical and ancientnear Eastern studies, The Johns Hopkins University, on \"The CopperScroll;\"   -- Lawrence H. Schiffman, professor of Hebrew and Judaic studies,New York University, on \"The Dead Sea Scrolls and the History ofJudaism;\" and   -- James VanderKam, professor of theology, University of NotreDame, on \"Messianism in the Scrolls and in Early Christianity.\"   The Thursday afternoon sessions, at 1:30 p.m., include:   -- Devorah Dimant, associate professor of Bible and Ancient JewishThought, University of Haifa, on \"Qumran Manuscripts: Library of aJewish Community;\"   -- Norman Golb, Rosenberger professor of Jewish history andcivilization, Oriental Institute, University of Chicago, on \"TheCurrent Status of the Jerusalem Origin of the Scrolls;\"   -- Shmaryahu Talmon, J.L. Magnas professor emeritus of Biblicalstudies, Hebrew University, Jerusalem, on \"The Essential 'Commune ofthe Renewed Covenant': How Should Qumran Studies Proceed?\" will closethe symposium.   There will be ample time for question and answer periods at theend of each session.   Also on Wednesday, April 21, at 11 a.m.:   The Library of Congress and The Israel Antiquities Authoritywill hold a lecture by Esther Boyd-Alkalay, consulting conservator,Israel Antiquities Authority, on \"Preserving the Dead Sea Scrolls\"in the Mumford Room, LM-649, James Madison Memorial Building, TheLibrary of Congress, 101 Independence Ave., S.E., Washington, D.C.    ------   NOTE A: For more information about admission to the symposium,please contact, in writing, Dr. Michael Grunberger, head, HebraicSection, African and Middle Eastern Division, Library of Congress,Washington, D.C. 20540. -30-   \n",
       "1                                                                                                                                                                                                                                                                                                                                                                                                                                                                                                                                                                                                                                                                                                                                                                                                                                                                                                                                                                                                                                                                                                                                                                                                                                                                                                                                                                                                                                                                                                                                                                                                                                                                                                                                                                                                                                                                                                                                                                                                                                                                                                                                                                                                                                                                                                                                                                                                                                                                                                                                                                                                                                                                                                                                                                                                                                                                                                                                                                                                                                                                                                                                                                                                                                                                                                                                                                                                                                         Anyone who dies for a \"cause\" runs the risk of dying for a lie.  As forpeople being able to tell if he was a liar, well, we've had grifters andcharlatans since the beginning of civilization.  If David Copperfield hadbeen the Messiah, I bet he could have found plenty of believers.  Jesus was hardly the first to claim to be a faith healer, and he wasn't thefirst to be \"witnessed.\"  What sets him apart?Rubbish.  Nations have followed crazies, liars, psychopaths, and megalomaniacs throughout history.  Hitler, Tojo, Mussolini, Khomeini,Qadaffi, Stalin, Papa Doc, and Nixon come to mind...all from this century.Koresh is a non-issue.Take a discrete mathematics or formal logic course.  There are flaws in yourlogic everywhere.  And as I'm sure others will tell you, read the FAQ!Of course, you have to believe the Bible first.  Just because something iswritten in the Bible does not mean it is true, and the age of that tome plusthe lack of external supporting evidence makes it less credible.  So if youdo quote from the Bible in the future, try to back up that quote with supporting evidence.  Otherwise, you will get flamed mercilessly.Just like weight lifting or guitar playing, eh?  I don't know how you define the world \"total,\" but I would imagine a \"total sacrafice [sp]of everything for God's sake\" would involve more than a time commitment.You are correct about our tendency to \"box everything into time units.\"Would you explain HOW one should involove God in sports and (hehehe)television?   \n",
       "2                                                                                                                                                                                                                                                                                                                                                                                                                                                                                                                                                                                                                                                                                                                                                                                                                                                                                                                                                                                                                                                                                                                                                                                                                                                                                                                                                                                                                                                                                                                                                                                                                                                                                                                                                                                                                                                                                                                                                                                                                                                                                                                                                                                                                                                                                                                                                                                                                                                                                                                                                                                                                                                                                                                                                                                                                                                                                                                                                                                                                                                                                                                                                                                                                                                                                                                                                                                                                                                                                                                                                                                                                                                                                                                                                                                                                                                                                                                                                                                                                                                                                                                                                                                                                                                                                                                                                                                                                                                                                                                                                                                                                                                                                                                                          Woah...The context is about God's calling out a special people (the Jews) tocarry the \"promise.\"  To read the meaning as literal people is to miss Paul'sentire point.  I'd be glad to send anyone more detailed explanations of thispassage if interested.   \n",
       "3                                                                                                                                                                                                                                                                                                                                                                                                                                                                                                                                                                                                                                                                                                                                                                                                                                                                                                                                                                                                                                                                                                                                                                                                                                                                                                                                                                                                                                                                                                                                                                                                                                                                                                                                                                                                                                                                                                                                                                                                                                                                                                                                                                                                                                                                                                                                                                                                                                                                                                                                                                                                                                                                                                                                                                                                                                                                                                                                                                                                                                                                                                                                                                                                                                                                                                                                                                                                                                                                                                                                                                                                                                                                                                                                                                                                                                                                                                                                                                                        See, there you go again, saying that a moral act is only significantif it is \"voluntary.\"  Why do you think this?And anyway, humans have the ability to disregard some of their instincts.You are attaching too many things to the term \"moral,\" I think.Let's try this:  is it \"good\" that animals of the same speciesdon't kill each other.  Or, do you think this is right? Or do you think that animals are machines, and that nothing they dois either right nor wrong?Those weren't arbitrary killings.  They were slayings related to some sortof mating ritual or whatnot.Yes it was, but I still don't understand your distinctions.  Whatdo you mean by \"consider?\"  Can a small child be moral?  How abouta gorilla?  A dolphin?  A platypus?  Where is the line drawn?  Doesthe being need to be self aware?What *do* you call the mechanism which seems to prevent animals ofthe same species from (arbitrarily) killing each other?  Don'tyou find the fact that they don't at all significant?   \n",
       "4                                                                                                                                                                                                                                                                                                                                                                                                                                                                                                                                                                                                                                                                                                                                                                                                                                                                                                                                                                                                                                                                                                                                                                                                                                                                                                                                                                                                                                                                                                                                                                                                                                                                                                                                                                                                                                                                                                                                                                                                                                                                                                                                                                                                                                                                                                                                                                                                                                                                                                                                                                                                                                                                                                                                                                                                                                                                                                                                                                                                                                                                                                                                                                                                                                                                                                                                                                                                                                                                                                                                                                                                                                                                                                                                                                                                                                                                                                                                                                                                                                                                                                                                                                                                                                                                                                                                                                                          The last sentence is ironic, since so many readers ofsoc.religion.christian seem to not be embarrassed by apologists such asJosh McDowell and C.S. Lewis. The above also expresses a rather odd senseof history. What makes you think the masses in Aquinas' day, who weremostly illiterate, knew any more about rhetoric and logic than most peopletoday? If writings from the period seem elevated consider that only thecream of the crop, so to speak, could read and write. If everyone inthe medieval period \"knew the rules\" it was a matter of uncriticallyaccepting what they were told.Bill Mayne   \n",
       "\n",
       "       target  q1  q2  \n",
       "0   christian   0   0  \n",
       "1    altheism   1   0  \n",
       "2  christian    0   0  \n",
       "3    altheism   0   1  \n",
       "4   christian   0   0  "
      ]
     },
     "execution_count": 137,
     "metadata": {},
     "output_type": "execute_result"
    }
   ],
   "source": [
    "dataset.head()"
   ]
  },
  {
   "cell_type": "markdown",
   "id": "b47c9b7f",
   "metadata": {},
   "source": [
    "## Pre-rocesing Data\n",
    "\n",
    "In this step we will create 5 data models:\n",
    "\n",
    "v1 - Only Tokenization; \\\n",
    "v2 - Only Stopword Filter; \\\n",
    "v3 - Only Stemming; \\\n",
    "v4 - Remove Stopwords and Stemming; \\\n",
    "v5 - Remove Stopworpd and expand words with Synonyms.\n"
   ]
  },
  {
   "cell_type": "code",
   "execution_count": 184,
   "id": "a37629bf",
   "metadata": {},
   "outputs": [],
   "source": [
    "def remove_accent(text):\n",
    "    return unidecode.unidecode(text)\n",
    "\n",
    "def tokenize(text):\n",
    "    return word_tokenize(text, language=\"english\")\n",
    "\n",
    "def pre_process(text, rmv_sw, stem):\n",
    "    text_lower = text.lower()\n",
    "    text_rmv_accent = remove_accent(text_lower)\n",
    "    text_tokenized = tokenize(text_rmv_accent)\n",
    "    text_rmv_alphanum = list(filter(lambda token: not re.search('\\d', token), text_tokenized))\n",
    "    text_final = list(filter(lambda token: token not in string.punctuation+, text_rmv_alphanum))\n",
    "    \n",
    "    if rmv_sw:\n",
    "        text_final = list(filter(lambda token: token not in STOPWORDS, text_final))\n",
    "    \n",
    "    if stem:\n",
    "        stemmer = SnowballStemmer(\"english\")\n",
    "        text_final = list(map(lambda token: stemmer.stem(token), text_final))\n",
    "        \n",
    "    return text_final\n",
    "\n",
    "STOPWORDS = set(map(lambda token: remove_accent(token), stopwords.words(\"english\")))"
   ]
  },
  {
   "cell_type": "code",
   "execution_count": 185,
   "id": "87c94be4",
   "metadata": {},
   "outputs": [],
   "source": [
    "pre_process_v1 = lambda text: pre_process(text, False, False)\n",
    "pre_process_v2 = lambda text: pre_process(text, True, False)\n",
    "pre_process_v3 = lambda text: pre_process(text, False, True)\n",
    "pre_process_v4 = lambda text: pre_process(text, True, True)\n",
    "#pre_process_v5 = lambda i: pre_process(text, True, False) # TODO: Para este caso eu chequei esta referência -> https://www.holisticseo.digital/python-seo/nltk/wordnet."
   ]
  },
  {
   "cell_type": "code",
   "execution_count": 186,
   "id": "75283f99",
   "metadata": {},
   "outputs": [],
   "source": [
    "dataset_pcrs = dataset.copy().drop_duplicates().head(50)"
   ]
  },
  {
   "cell_type": "code",
   "execution_count": 187,
   "id": "e714b5f4",
   "metadata": {},
   "outputs": [],
   "source": [
    "dataset_pcrs[\"v1\"] = dataset_pcrs[\"text\"].apply(lambda text: pre_process_v1(text))"
   ]
  },
  {
   "cell_type": "code",
   "execution_count": 188,
   "id": "252a864e",
   "metadata": {},
   "outputs": [],
   "source": [
    "dataset_pcrs[\"v2\"] = dataset_pcrs[\"text\"].apply(lambda text: pre_process_v2(text))"
   ]
  },
  {
   "cell_type": "code",
   "execution_count": 189,
   "id": "91ab5f48",
   "metadata": {
    "scrolled": true
   },
   "outputs": [],
   "source": [
    "dataset_pcrs[\"v3\"] = dataset_pcrs[\"text\"].apply(lambda text: pre_process_v3(text))"
   ]
  },
  {
   "cell_type": "code",
   "execution_count": 190,
   "id": "517208ea",
   "metadata": {},
   "outputs": [],
   "source": [
    "dataset_pcrs[\"v4\"] = dataset_pcrs[\"text\"].apply(lambda text: pre_process_v4(text))"
   ]
  },
  {
   "cell_type": "code",
   "execution_count": 191,
   "id": "43c9b4cc",
   "metadata": {},
   "outputs": [],
   "source": [
    "# @TODO: Create Expand Vocabulary Pipeline add connect pre_process\n",
    "# dataset_pcrs[\"v5\"] = dataset_pcrs[\"text\"].apply(lambda text: pre_process_v5(text))"
   ]
  },
  {
   "cell_type": "code",
   "execution_count": 192,
   "id": "a0c7d265",
   "metadata": {},
   "outputs": [
    {
     "data": {
      "text/html": [
       "<div>\n",
       "<style scoped>\n",
       "    .dataframe tbody tr th:only-of-type {\n",
       "        vertical-align: middle;\n",
       "    }\n",
       "\n",
       "    .dataframe tbody tr th {\n",
       "        vertical-align: top;\n",
       "    }\n",
       "\n",
       "    .dataframe thead th {\n",
       "        text-align: right;\n",
       "    }\n",
       "</style>\n",
       "<table border=\"1\" class=\"dataframe\">\n",
       "  <thead>\n",
       "    <tr style=\"text-align: right;\">\n",
       "      <th></th>\n",
       "      <th>_id</th>\n",
       "      <th>text</th>\n",
       "      <th>target</th>\n",
       "      <th>q1</th>\n",
       "      <th>q2</th>\n",
       "      <th>v1</th>\n",
       "      <th>v2</th>\n",
       "      <th>v3</th>\n",
       "      <th>v4</th>\n",
       "    </tr>\n",
       "  </thead>\n",
       "  <tbody>\n",
       "    <tr>\n",
       "      <th>0</th>\n",
       "      <td>0</td>\n",
       "      <td>Library of Congress to Host Dead Sea Scroll Symposium April 21-22 To: National and Assignment desks, Daybook Editor Contact: John Sullivan, 202-707-9216, or Lucy Suddreth, 202-707-9191          both of the Library of Congress   WASHINGTON, April 19  -- A symposium on the Dead Sea Scrolls will be held at the Library of Congress on Wednesday,April 21, and Thursday, April 22.  The two-day program, cosponsoredby the library and Baltimore Hebrew University, with additionalsupport from the Project Judaica Foundation, will be held in thelibrary's Mumford Room, sixth floor, Madison Building.   Seating is limited, and admission to any session of the symposiummust be requested in writing (see Note A).   The symposium will be held one week before the public opening of amajor exhibition, \"Scrolls from the Dead Sea: The Ancient Library ofQumran and Modern Scholarship,\" that opens at the Library of Congresson April 29.  On view will be fragmentary scrolls and archaeologicalartifacts excavated at Qumran, on loan from the Israel AntiquitiesAuthority.  Approximately 50 items from Library of Congress specialcollections will augment these materials.  The exhibition, on view inthe Madison Gallery, through Aug. 1, is made possible by a generousgift from the Project Judaica Foundation of Washington, D.C.   The Dead Sea Scrolls have been the focus of public and scholarlyinterest since 1947, when they were discovered in the desert 13 mileseast of Jerusalem.  The symposium will explore the origin and meaningof the scrolls and current scholarship.  Scholars from diverseacademic backgrounds and religious affiliations, will offer theirdisparate views, ensuring a lively discussion.   The symposium schedule includes opening remarks on April 21, at2 p.m., by Librarian of Congress James H. Billington, and byDr. Norma Furst, president, Baltimore Hebrew University.  Co-chairingthe symposium are Joseph Baumgarten, professor of Rabbinic Literatureand Institutions, Baltimore Hebrew University and Michael Grunberger,head, Hebraic Section, Library of Congress.   Geza Vermes, professor emeritus of Jewish studies, OxfordUniversity, will give the keynote address on the current state ofscroll research, focusing on where we stand today. On the secondday, the closing address will be given by Shmaryahu Talmon, who willpropose a research agenda, picking up the theme of how the Qumranstudies might proceed.   On Wednesday, April 21, other speakers will include:   -- Eugene Ulrich, professor of Hebrew Scriptures, University ofNotre Dame and chief editor, Biblical Scrolls from Qumran, on \"TheBible at Qumran;\"   -- Michael Stone, National Endowment for the Humanitiesdistinguished visiting professor of religious studies, University ofRichmond, on \"The Dead Sea Scrolls and the Pseudepigrapha.\"   -- From 5 p.m. to 6:30 p.m. a special preview of the exhibitionwill be given to symposium participants and guests.   On Thursday, April 22, beginning at 9 a.m., speakers will include:   -- Magen Broshi, curator, shrine of the Book, Israel Museum,Jerusalem, on \"Qumran: The Archaeological Evidence;\"   -- P. Kyle McCarter, Albright professor of Biblical and ancientnear Eastern studies, The Johns Hopkins University, on \"The CopperScroll;\"   -- Lawrence H. Schiffman, professor of Hebrew and Judaic studies,New York University, on \"The Dead Sea Scrolls and the History ofJudaism;\" and   -- James VanderKam, professor of theology, University of NotreDame, on \"Messianism in the Scrolls and in Early Christianity.\"   The Thursday afternoon sessions, at 1:30 p.m., include:   -- Devorah Dimant, associate professor of Bible and Ancient JewishThought, University of Haifa, on \"Qumran Manuscripts: Library of aJewish Community;\"   -- Norman Golb, Rosenberger professor of Jewish history andcivilization, Oriental Institute, University of Chicago, on \"TheCurrent Status of the Jerusalem Origin of the Scrolls;\"   -- Shmaryahu Talmon, J.L. Magnas professor emeritus of Biblicalstudies, Hebrew University, Jerusalem, on \"The Essential 'Commune ofthe Renewed Covenant': How Should Qumran Studies Proceed?\" will closethe symposium.   There will be ample time for question and answer periods at theend of each session.   Also on Wednesday, April 21, at 11 a.m.:   The Library of Congress and The Israel Antiquities Authoritywill hold a lecture by Esther Boyd-Alkalay, consulting conservator,Israel Antiquities Authority, on \"Preserving the Dead Sea Scrolls\"in the Mumford Room, LM-649, James Madison Memorial Building, TheLibrary of Congress, 101 Independence Ave., S.E., Washington, D.C.    ------   NOTE A: For more information about admission to the symposium,please contact, in writing, Dr. Michael Grunberger, head, HebraicSection, African and Middle Eastern Division, Library of Congress,Washington, D.C. 20540. -30-</td>\n",
       "      <td>christian</td>\n",
       "      <td>0</td>\n",
       "      <td>0</td>\n",
       "      <td>[library, of, congress, to, host, dead, sea, scroll, symposium, april, to, national, and, assignment, desks, daybook, editor, contact, john, sullivan, or, lucy, suddreth, both, of, the, library, of, congress, washington, april, --, a, symposium, on, the, dead, sea, scrolls, will, be, held, at, the, library, of, congress, on, wednesday, april, and, thursday, april, the, two-day, program, cosponsoredby, the, library, and, baltimore, hebrew, university, with, additionalsupport, from, the, project, judaica, foundation, will, be, held, in, thelibrary, 's, mumford, room, sixth, floor, madison, building, seating, is, limited, and, admission, to, any, session, of, the, symposiummust, be, requested, in, writing, see, note, a, ...]</td>\n",
       "      <td>[library, congress, host, dead, sea, scroll, symposium, april, national, assignment, desks, daybook, editor, contact, john, sullivan, lucy, suddreth, library, congress, washington, april, --, symposium, dead, sea, scrolls, held, library, congress, wednesday, april, thursday, april, two-day, program, cosponsoredby, library, baltimore, hebrew, university, additionalsupport, project, judaica, foundation, held, thelibrary, 's, mumford, room, sixth, floor, madison, building, seating, limited, admission, session, symposiummust, requested, writing, see, note, symposium, held, one, week, public, opening, amajor, exhibition, ``, scrolls, dead, sea, ancient, library, ofqumran, modern, scholarship, '', opens, library, congresson, april, view, fragmentary, scrolls, archaeologicalartifacts, excavated, qumran, loan, israel, antiquitiesauthority, approximately, items, library, congress, specialcollections, augment, ...]</td>\n",
       "      <td>[librari, of, congress, to, host, dead, sea, scroll, symposium, april, to, nation, and, assign, desk, daybook, editor, contact, john, sullivan, or, luci, suddreth, both, of, the, librari, of, congress, washington, april, --, a, symposium, on, the, dead, sea, scroll, will, be, held, at, the, librari, of, congress, on, wednesday, april, and, thursday, april, the, two-day, program, cosponsoredbi, the, librari, and, baltimor, hebrew, univers, with, additionalsupport, from, the, project, judaica, foundat, will, be, held, in, thelibrari, 's, mumford, room, sixth, floor, madison, build, seat, is, limit, and, admiss, to, ani, session, of, the, symposiummust, be, request, in, write, see, note, a, ...]</td>\n",
       "      <td>[librari, congress, host, dead, sea, scroll, symposium, april, nation, assign, desk, daybook, editor, contact, john, sullivan, luci, suddreth, librari, congress, washington, april, --, symposium, dead, sea, scroll, held, librari, congress, wednesday, april, thursday, april, two-day, program, cosponsoredbi, librari, baltimor, hebrew, univers, additionalsupport, project, judaica, foundat, held, thelibrari, 's, mumford, room, sixth, floor, madison, build, seat, limit, admiss, session, symposiummust, request, write, see, note, symposium, held, one, week, public, open, amajor, exhibit, ``, scroll, dead, sea, ancient, librari, ofqumran, modern, scholarship, '', open, librari, congresson, april, view, fragmentari, scroll, archaeologicalartifact, excav, qumran, loan, israel, antiquitiesauthor, approxim, item, librari, congress, specialcollect, augment, ...]</td>\n",
       "    </tr>\n",
       "    <tr>\n",
       "      <th>1</th>\n",
       "      <td>1</td>\n",
       "      <td>Anyone who dies for a \"cause\" runs the risk of dying for a lie.  As forpeople being able to tell if he was a liar, well, we've had grifters andcharlatans since the beginning of civilization.  If David Copperfield hadbeen the Messiah, I bet he could have found plenty of believers.  Jesus was hardly the first to claim to be a faith healer, and he wasn't thefirst to be \"witnessed.\"  What sets him apart?Rubbish.  Nations have followed crazies, liars, psychopaths, and megalomaniacs throughout history.  Hitler, Tojo, Mussolini, Khomeini,Qadaffi, Stalin, Papa Doc, and Nixon come to mind...all from this century.Koresh is a non-issue.Take a discrete mathematics or formal logic course.  There are flaws in yourlogic everywhere.  And as I'm sure others will tell you, read the FAQ!Of course, you have to believe the Bible first.  Just because something iswritten in the Bible does not mean it is true, and the age of that tome plusthe lack of external supporting evidence makes it less credible.  So if youdo quote from the Bible in the future, try to back up that quote with supporting evidence.  Otherwise, you will get flamed mercilessly.Just like weight lifting or guitar playing, eh?  I don't know how you define the world \"total,\" but I would imagine a \"total sacrafice [sp]of everything for God's sake\" would involve more than a time commitment.You are correct about our tendency to \"box everything into time units.\"Would you explain HOW one should involove God in sports and (hehehe)television?</td>\n",
       "      <td>altheism</td>\n",
       "      <td>1</td>\n",
       "      <td>0</td>\n",
       "      <td>[anyone, who, dies, for, a, ``, cause, '', runs, the, risk, of, dying, for, a, lie, as, forpeople, being, able, to, tell, if, he, was, a, liar, well, we, 've, had, grifters, andcharlatans, since, the, beginning, of, civilization, if, david, copperfield, hadbeen, the, messiah, i, bet, he, could, have, found, plenty, of, believers, jesus, was, hardly, the, first, to, claim, to, be, a, faith, healer, and, he, was, n't, thefirst, to, be, ``, witnessed, '', what, sets, him, apart, rubbish, nations, have, followed, crazies, liars, psychopaths, and, megalomaniacs, throughout, history, hitler, tojo, mussolini, khomeini, qadaffi, stalin, papa, doc, and, nixon, ...]</td>\n",
       "      <td>[anyone, dies, ``, cause, '', runs, risk, dying, lie, forpeople, able, tell, liar, well, 've, grifters, andcharlatans, since, beginning, civilization, david, copperfield, hadbeen, messiah, bet, could, found, plenty, believers, jesus, hardly, first, claim, faith, healer, n't, thefirst, ``, witnessed, '', sets, apart, rubbish, nations, followed, crazies, liars, psychopaths, megalomaniacs, throughout, history, hitler, tojo, mussolini, khomeini, qadaffi, stalin, papa, doc, nixon, come, mind, ..., century.koresh, non-issue.take, discrete, mathematics, formal, logic, course, flaws, yourlogic, everywhere, 'm, sure, others, tell, read, faq, course, believe, bible, first, something, iswritten, bible, mean, true, age, tome, plusthe, lack, external, supporting, evidence, makes, less, credible, youdo, quote, ...]</td>\n",
       "      <td>[anyon, who, die, for, a, ``, caus, '', run, the, risk, of, die, for, a, lie, as, forpeopl, be, abl, to, tell, if, he, was, a, liar, well, we, ve, had, grifter, andcharlatan, sinc, the, begin, of, civil, if, david, copperfield, hadbeen, the, messiah, i, bet, he, could, have, found, plenti, of, believ, jesus, was, hard, the, first, to, claim, to, be, a, faith, healer, and, he, was, n't, thefirst, to, be, ``, wit, '', what, set, him, apart, rubbish, nation, have, follow, crazi, liar, psychopath, and, megalomaniac, throughout, histori, hitler, tojo, mussolini, khomeini, qadaffi, stalin, papa, doc, and, nixon, ...]</td>\n",
       "      <td>[anyon, die, ``, caus, '', run, risk, die, lie, forpeopl, abl, tell, liar, well, ve, grifter, andcharlatan, sinc, begin, civil, david, copperfield, hadbeen, messiah, bet, could, found, plenti, believ, jesus, hard, first, claim, faith, healer, n't, thefirst, ``, wit, '', set, apart, rubbish, nation, follow, crazi, liar, psychopath, megalomaniac, throughout, histori, hitler, tojo, mussolini, khomeini, qadaffi, stalin, papa, doc, nixon, come, mind, ..., century.koresh, non-issue.tak, discret, mathemat, formal, logic, cours, flaw, yourlog, everywher, 'm, sure, other, tell, read, faq, cours, believ, bibl, first, someth, iswritten, bibl, mean, true, age, tome, plusth, lack, extern, support, evid, make, less, credibl, youdo, quot, ...]</td>\n",
       "    </tr>\n",
       "  </tbody>\n",
       "</table>\n",
       "</div>"
      ],
      "text/plain": [
       "   _id  \\\n",
       "0    0   \n",
       "1    1   \n",
       "\n",
       "                                                                                                                                                                                                                                                                                                                                                                                                                                                                                                                                                                                                                                                                                                                                                                                                                                                                                                                                                                                                                                                                                                                                                                                                                                                                                                                                                                                                                                                                                                                                                                                                                                                                                                                                                                                                                                                                                                                                                                                                                                                                                                                                                                                                                                                                                                                                                                                                                                                                                                                                                                                                                                                                                                                                                                                                                                                                                                                                                                                                                                                                                                                                                                                                                                                                                                                                                                                                                                                                                                                                                                                                                                                                                                                                                                                                                                                                                                                                                                                                                                                                                                                                                                                                                                                                                                                                                                                                                                                                                                                                                                                                                                                                                                                                                                                                                                                                                                                                                                                                  text  \\\n",
       "0  Library of Congress to Host Dead Sea Scroll Symposium April 21-22 To: National and Assignment desks, Daybook Editor Contact: John Sullivan, 202-707-9216, or Lucy Suddreth, 202-707-9191          both of the Library of Congress   WASHINGTON, April 19  -- A symposium on the Dead Sea Scrolls will be held at the Library of Congress on Wednesday,April 21, and Thursday, April 22.  The two-day program, cosponsoredby the library and Baltimore Hebrew University, with additionalsupport from the Project Judaica Foundation, will be held in thelibrary's Mumford Room, sixth floor, Madison Building.   Seating is limited, and admission to any session of the symposiummust be requested in writing (see Note A).   The symposium will be held one week before the public opening of amajor exhibition, \"Scrolls from the Dead Sea: The Ancient Library ofQumran and Modern Scholarship,\" that opens at the Library of Congresson April 29.  On view will be fragmentary scrolls and archaeologicalartifacts excavated at Qumran, on loan from the Israel AntiquitiesAuthority.  Approximately 50 items from Library of Congress specialcollections will augment these materials.  The exhibition, on view inthe Madison Gallery, through Aug. 1, is made possible by a generousgift from the Project Judaica Foundation of Washington, D.C.   The Dead Sea Scrolls have been the focus of public and scholarlyinterest since 1947, when they were discovered in the desert 13 mileseast of Jerusalem.  The symposium will explore the origin and meaningof the scrolls and current scholarship.  Scholars from diverseacademic backgrounds and religious affiliations, will offer theirdisparate views, ensuring a lively discussion.   The symposium schedule includes opening remarks on April 21, at2 p.m., by Librarian of Congress James H. Billington, and byDr. Norma Furst, president, Baltimore Hebrew University.  Co-chairingthe symposium are Joseph Baumgarten, professor of Rabbinic Literatureand Institutions, Baltimore Hebrew University and Michael Grunberger,head, Hebraic Section, Library of Congress.   Geza Vermes, professor emeritus of Jewish studies, OxfordUniversity, will give the keynote address on the current state ofscroll research, focusing on where we stand today. On the secondday, the closing address will be given by Shmaryahu Talmon, who willpropose a research agenda, picking up the theme of how the Qumranstudies might proceed.   On Wednesday, April 21, other speakers will include:   -- Eugene Ulrich, professor of Hebrew Scriptures, University ofNotre Dame and chief editor, Biblical Scrolls from Qumran, on \"TheBible at Qumran;\"   -- Michael Stone, National Endowment for the Humanitiesdistinguished visiting professor of religious studies, University ofRichmond, on \"The Dead Sea Scrolls and the Pseudepigrapha.\"   -- From 5 p.m. to 6:30 p.m. a special preview of the exhibitionwill be given to symposium participants and guests.   On Thursday, April 22, beginning at 9 a.m., speakers will include:   -- Magen Broshi, curator, shrine of the Book, Israel Museum,Jerusalem, on \"Qumran: The Archaeological Evidence;\"   -- P. Kyle McCarter, Albright professor of Biblical and ancientnear Eastern studies, The Johns Hopkins University, on \"The CopperScroll;\"   -- Lawrence H. Schiffman, professor of Hebrew and Judaic studies,New York University, on \"The Dead Sea Scrolls and the History ofJudaism;\" and   -- James VanderKam, professor of theology, University of NotreDame, on \"Messianism in the Scrolls and in Early Christianity.\"   The Thursday afternoon sessions, at 1:30 p.m., include:   -- Devorah Dimant, associate professor of Bible and Ancient JewishThought, University of Haifa, on \"Qumran Manuscripts: Library of aJewish Community;\"   -- Norman Golb, Rosenberger professor of Jewish history andcivilization, Oriental Institute, University of Chicago, on \"TheCurrent Status of the Jerusalem Origin of the Scrolls;\"   -- Shmaryahu Talmon, J.L. Magnas professor emeritus of Biblicalstudies, Hebrew University, Jerusalem, on \"The Essential 'Commune ofthe Renewed Covenant': How Should Qumran Studies Proceed?\" will closethe symposium.   There will be ample time for question and answer periods at theend of each session.   Also on Wednesday, April 21, at 11 a.m.:   The Library of Congress and The Israel Antiquities Authoritywill hold a lecture by Esther Boyd-Alkalay, consulting conservator,Israel Antiquities Authority, on \"Preserving the Dead Sea Scrolls\"in the Mumford Room, LM-649, James Madison Memorial Building, TheLibrary of Congress, 101 Independence Ave., S.E., Washington, D.C.    ------   NOTE A: For more information about admission to the symposium,please contact, in writing, Dr. Michael Grunberger, head, HebraicSection, African and Middle Eastern Division, Library of Congress,Washington, D.C. 20540. -30-   \n",
       "1                                                                                                                                                                                                                                                                                                                                                                                                                                                                                                                                                                                                                                                                                                                                                                                                                                                                                                                                                                                                                                                                                                                                                                                                                                                                                                                                                                                                                                                                                                                                                                                                                                                                                                                                                                                                                                                                                                                                                                                                                                                                                                                                                                                                                                                                                                                                                                                                                                                                                                                                                                                                                                                                                                                                                                                                                                                                                                                                                                                                                                                                                                                                                                                                                                                                                                                                                                                                                                         Anyone who dies for a \"cause\" runs the risk of dying for a lie.  As forpeople being able to tell if he was a liar, well, we've had grifters andcharlatans since the beginning of civilization.  If David Copperfield hadbeen the Messiah, I bet he could have found plenty of believers.  Jesus was hardly the first to claim to be a faith healer, and he wasn't thefirst to be \"witnessed.\"  What sets him apart?Rubbish.  Nations have followed crazies, liars, psychopaths, and megalomaniacs throughout history.  Hitler, Tojo, Mussolini, Khomeini,Qadaffi, Stalin, Papa Doc, and Nixon come to mind...all from this century.Koresh is a non-issue.Take a discrete mathematics or formal logic course.  There are flaws in yourlogic everywhere.  And as I'm sure others will tell you, read the FAQ!Of course, you have to believe the Bible first.  Just because something iswritten in the Bible does not mean it is true, and the age of that tome plusthe lack of external supporting evidence makes it less credible.  So if youdo quote from the Bible in the future, try to back up that quote with supporting evidence.  Otherwise, you will get flamed mercilessly.Just like weight lifting or guitar playing, eh?  I don't know how you define the world \"total,\" but I would imagine a \"total sacrafice [sp]of everything for God's sake\" would involve more than a time commitment.You are correct about our tendency to \"box everything into time units.\"Would you explain HOW one should involove God in sports and (hehehe)television?   \n",
       "\n",
       "      target  q1  q2  \\\n",
       "0  christian   0   0   \n",
       "1   altheism   1   0   \n",
       "\n",
       "                                                                                                                                                                                                                                                                                                                                                                                                                                                                                                                                                                                                                                                                                                                                                            v1  \\\n",
       "0  [library, of, congress, to, host, dead, sea, scroll, symposium, april, to, national, and, assignment, desks, daybook, editor, contact, john, sullivan, or, lucy, suddreth, both, of, the, library, of, congress, washington, april, --, a, symposium, on, the, dead, sea, scrolls, will, be, held, at, the, library, of, congress, on, wednesday, april, and, thursday, april, the, two-day, program, cosponsoredby, the, library, and, baltimore, hebrew, university, with, additionalsupport, from, the, project, judaica, foundation, will, be, held, in, thelibrary, 's, mumford, room, sixth, floor, madison, building, seating, is, limited, and, admission, to, any, session, of, the, symposiummust, be, requested, in, writing, see, note, a, ...]   \n",
       "1                                                                     [anyone, who, dies, for, a, ``, cause, '', runs, the, risk, of, dying, for, a, lie, as, forpeople, being, able, to, tell, if, he, was, a, liar, well, we, 've, had, grifters, andcharlatans, since, the, beginning, of, civilization, if, david, copperfield, hadbeen, the, messiah, i, bet, he, could, have, found, plenty, of, believers, jesus, was, hardly, the, first, to, claim, to, be, a, faith, healer, and, he, was, n't, thefirst, to, be, ``, witnessed, '', what, sets, him, apart, rubbish, nations, have, followed, crazies, liars, psychopaths, and, megalomaniacs, throughout, history, hitler, tojo, mussolini, khomeini, qadaffi, stalin, papa, doc, and, nixon, ...]   \n",
       "\n",
       "                                                                                                                                                                                                                                                                                                                                                                                                                                                                                                                                                                                                                                                                                                                                                                                                                                                                                                                                                       v2  \\\n",
       "0  [library, congress, host, dead, sea, scroll, symposium, april, national, assignment, desks, daybook, editor, contact, john, sullivan, lucy, suddreth, library, congress, washington, april, --, symposium, dead, sea, scrolls, held, library, congress, wednesday, april, thursday, april, two-day, program, cosponsoredby, library, baltimore, hebrew, university, additionalsupport, project, judaica, foundation, held, thelibrary, 's, mumford, room, sixth, floor, madison, building, seating, limited, admission, session, symposiummust, requested, writing, see, note, symposium, held, one, week, public, opening, amajor, exhibition, ``, scrolls, dead, sea, ancient, library, ofqumran, modern, scholarship, '', opens, library, congresson, april, view, fragmentary, scrolls, archaeologicalartifacts, excavated, qumran, loan, israel, antiquitiesauthority, approximately, items, library, congress, specialcollections, augment, ...]   \n",
       "1                                                                                                            [anyone, dies, ``, cause, '', runs, risk, dying, lie, forpeople, able, tell, liar, well, 've, grifters, andcharlatans, since, beginning, civilization, david, copperfield, hadbeen, messiah, bet, could, found, plenty, believers, jesus, hardly, first, claim, faith, healer, n't, thefirst, ``, witnessed, '', sets, apart, rubbish, nations, followed, crazies, liars, psychopaths, megalomaniacs, throughout, history, hitler, tojo, mussolini, khomeini, qadaffi, stalin, papa, doc, nixon, come, mind, ..., century.koresh, non-issue.take, discrete, mathematics, formal, logic, course, flaws, yourlogic, everywhere, 'm, sure, others, tell, read, faq, course, believe, bible, first, something, iswritten, bible, mean, true, age, tome, plusthe, lack, external, supporting, evidence, makes, less, credible, youdo, quote, ...]   \n",
       "\n",
       "                                                                                                                                                                                                                                                                                                                                                                                                                                                                                                                                                                                                                                                                                                                              v3  \\\n",
       "0  [librari, of, congress, to, host, dead, sea, scroll, symposium, april, to, nation, and, assign, desk, daybook, editor, contact, john, sullivan, or, luci, suddreth, both, of, the, librari, of, congress, washington, april, --, a, symposium, on, the, dead, sea, scroll, will, be, held, at, the, librari, of, congress, on, wednesday, april, and, thursday, april, the, two-day, program, cosponsoredbi, the, librari, and, baltimor, hebrew, univers, with, additionalsupport, from, the, project, judaica, foundat, will, be, held, in, thelibrari, 's, mumford, room, sixth, floor, madison, build, seat, is, limit, and, admiss, to, ani, session, of, the, symposiummust, be, request, in, write, see, note, a, ...]   \n",
       "1                                                                                     [anyon, who, die, for, a, ``, caus, '', run, the, risk, of, die, for, a, lie, as, forpeopl, be, abl, to, tell, if, he, was, a, liar, well, we, ve, had, grifter, andcharlatan, sinc, the, begin, of, civil, if, david, copperfield, hadbeen, the, messiah, i, bet, he, could, have, found, plenti, of, believ, jesus, was, hard, the, first, to, claim, to, be, a, faith, healer, and, he, was, n't, thefirst, to, be, ``, wit, '', what, set, him, apart, rubbish, nation, have, follow, crazi, liar, psychopath, and, megalomaniac, throughout, histori, hitler, tojo, mussolini, khomeini, qadaffi, stalin, papa, doc, and, nixon, ...]   \n",
       "\n",
       "                                                                                                                                                                                                                                                                                                                                                                                                                                                                                                                                                                                                                                                                                                                                                                                                                                                                                              v4  \n",
       "0  [librari, congress, host, dead, sea, scroll, symposium, april, nation, assign, desk, daybook, editor, contact, john, sullivan, luci, suddreth, librari, congress, washington, april, --, symposium, dead, sea, scroll, held, librari, congress, wednesday, april, thursday, april, two-day, program, cosponsoredbi, librari, baltimor, hebrew, univers, additionalsupport, project, judaica, foundat, held, thelibrari, 's, mumford, room, sixth, floor, madison, build, seat, limit, admiss, session, symposiummust, request, write, see, note, symposium, held, one, week, public, open, amajor, exhibit, ``, scroll, dead, sea, ancient, librari, ofqumran, modern, scholarship, '', open, librari, congresson, april, view, fragmentari, scroll, archaeologicalartifact, excav, qumran, loan, israel, antiquitiesauthor, approxim, item, librari, congress, specialcollect, augment, ...]  \n",
       "1                                                                                                                             [anyon, die, ``, caus, '', run, risk, die, lie, forpeopl, abl, tell, liar, well, ve, grifter, andcharlatan, sinc, begin, civil, david, copperfield, hadbeen, messiah, bet, could, found, plenti, believ, jesus, hard, first, claim, faith, healer, n't, thefirst, ``, wit, '', set, apart, rubbish, nation, follow, crazi, liar, psychopath, megalomaniac, throughout, histori, hitler, tojo, mussolini, khomeini, qadaffi, stalin, papa, doc, nixon, come, mind, ..., century.koresh, non-issue.tak, discret, mathemat, formal, logic, cours, flaw, yourlog, everywher, 'm, sure, other, tell, read, faq, cours, believ, bibl, first, someth, iswritten, bibl, mean, true, age, tome, plusth, lack, extern, support, evid, make, less, credibl, youdo, quot, ...]  "
      ]
     },
     "execution_count": 192,
     "metadata": {},
     "output_type": "execute_result"
    }
   ],
   "source": [
    "# Be careful with dataset_pcrs Len\n",
    "#HTML(dataset_pcrs.head(3).to_html())\n",
    "\n",
    "# @TODO: add \"()\" to STOPWORDS. A better strategy is create a dict simbol to filter and add this pipeline.\n",
    "dataset_pcrs.head(2)"
   ]
  },
  {
   "cell_type": "markdown",
   "id": "489658fb",
   "metadata": {},
   "source": [
    "### Vectorizing Data\n",
    "\n",
    "This step defines 5 (vectorizer, corpus_vetorized) models."
   ]
  },
  {
   "cell_type": "code",
   "execution_count": 195,
   "id": "d182078a",
   "metadata": {},
   "outputs": [],
   "source": [
    "def get_documments(df_column):\n",
    "    return list(map(lambda tokenized_text: \" \".join(tokenized_text), df_column))"
   ]
  },
  {
   "cell_type": "code",
   "execution_count": 196,
   "id": "57d9c22e",
   "metadata": {},
   "outputs": [],
   "source": [
    "corpus_v1 = get_documments(dataset_pcrs[\"v1\"])\n",
    "corpus_v2 = get_documments(dataset_pcrs[\"v2\"])\n",
    "corpus_v3 = get_documments(dataset_pcrs[\"v3\"])\n",
    "corpus_v4 = get_documments(dataset_pcrs[\"v4\"])\n",
    "# corpus_v5 = get_documments(dataset_pcrs[\"v5\"])"
   ]
  },
  {
   "cell_type": "code",
   "execution_count": 197,
   "id": "8573ee4d",
   "metadata": {},
   "outputs": [],
   "source": [
    "vectorizer_v1 = TfidfVectorizer()\n",
    "corpus_v1_vct = vectorizer_v1.fit_transform(corpus_v1)\n",
    "\n",
    "vectorizer_v2 = TfidfVectorizer()\n",
    "corpus_v2_vct = vectorizer_v2.fit_transform(corpus_v2)\n",
    "\n",
    "vectorizer_v3 = TfidfVectorizer()\n",
    "corpus_v3_vct = vectorizer_v3.fit_transform(corpus_v3)\n",
    "\n",
    "vectorizer_v4 = TfidfVectorizer()\n",
    "corpus_v4_vct = vectorizer_v4.fit_transform(corpus_v4)\n",
    "\n",
    "# vectorizer_v5 = TfidfVectorizer()\n",
    "# corpus_v1_vct = vectorizer_v5.fit_transform(corpus_v5)"
   ]
  },
  {
   "cell_type": "markdown",
   "id": "bda70a07",
   "metadata": {},
   "source": [
    "### Retrieval Information Function"
   ]
  },
  {
   "cell_type": "code",
   "execution_count": 198,
   "id": "c610c9ec",
   "metadata": {},
   "outputs": [],
   "source": [
    "# kd -> KDTree, nn -> Nearest Neighbor, bf -> Brute Force\n",
    "# n -> number of docs in return, use -1 to all docs\n",
    "def info_retrieval(pre_process, corpus, vectorizer, query, n=2, matcher=\"kd\"):\n",
    "    \n",
    "    query = \" \".join(pre_process(query))\n",
    "    query_vct = vectorizer.transform([query])\n",
    "    \n",
    "    if n == -1:\n",
    "        \n",
    "        n = corpus.shape[0]\n",
    "    \n",
    "    if matcher == \"kd\":\n",
    "        \n",
    "        kdtree = scipy.spatial.KDTree(corpus_v1_vct.todense())\n",
    "        \n",
    "        # p is Minkowski p-norm.\n",
    "        # p = 1, Manhattan Distance\n",
    "        # p = 2, Euclidean Distance\n",
    "        # p = +inf, Chebychev Distance\n",
    "        distance, index = kdtree.query(query_vct.todense(), n, p=1)\n",
    "        \n",
    "    elif matcher == \"nn\":\n",
    "        \n",
    "        nbrs = NearestNeighbors(n_neighbors=n, algorithm=\"ball_tree\").fit(corpus)\n",
    "        distance, index = nbrs.kneighbors(query_vct)\n",
    "        \n",
    "    elif matcher == \"bf\":\n",
    "\n",
    "        nbrs = NearestNeighbors(n_neighbors=n, algorithm=\"brute\", metric=\"cosine\").fit(corpus)\n",
    "        distance, index = nbrs.kneighbors(query_vct)\n",
    "        \n",
    "    else:\n",
    "        \n",
    "        return \"Matcher strategy not avaliable. Set kd to KDTree, nn to Nearest Neighbor and bf to Brute Force\"\n",
    "    \n",
    "    return list(zip(distance.tolist()[0], index.tolist()[0]))"
   ]
  },
  {
   "cell_type": "code",
   "execution_count": 199,
   "id": "a4383e79",
   "metadata": {},
   "outputs": [],
   "source": [
    "ir_v1 = lambda query: info_retrieval(pre_process_v1, corpus_v1_vct, vectorizer_v1, query, n=-1, matcher = \"bf\")\n",
    "ir_v2 = lambda query: info_retrieval(pre_process_v2, corpus_v2_vct, vectorizer_v2, query, n=-1, matcher = \"bf\")\n",
    "ir_v3 = lambda query: info_retrieval(pre_process_v3, corpus_v3_vct, vectorizer_v3, query, n=-1, matcher = \"bf\")\n",
    "ir_v4 = lambda query: info_retrieval(pre_process_v4, corpus_v4_vct, vectorizer_v4, query, n=-1, matcher = \"bf\")\n",
    "# ir_v5 = lambda query: info_retrieval(pre_process_v5, corpus_v5_vct, vectorizer_v5, query, n=-1, matcher = \"bf\")"
   ]
  },
  {
   "cell_type": "markdown",
   "id": "590be1bc",
   "metadata": {},
   "source": [
    "### Snippet Test"
   ]
  },
  {
   "cell_type": "code",
   "execution_count": 203,
   "id": "82e66307",
   "metadata": {},
   "outputs": [],
   "source": [
    "query_1 = \"Moral and ethics in christianism\"\n",
    "query_2 = "
   ]
  },
  {
   "cell_type": "code",
   "execution_count": 204,
   "id": "bb86c96e",
   "metadata": {},
   "outputs": [],
   "source": [
    "result = sorted(ir_v1(query), key=lambda i:i[0])"
   ]
  },
  {
   "cell_type": "code",
   "execution_count": 205,
   "id": "c5357961",
   "metadata": {},
   "outputs": [
    {
     "data": {
      "text/plain": [
       "[(0.8390608686972042, 3),\n",
       " (0.8991347213458132, 22),\n",
       " (0.9260732872630356, 5),\n",
       " (0.9310174352872853, 17),\n",
       " (0.931373084223062, 14),\n",
       " (0.9369893113510906, 24),\n",
       " (0.9393816132858184, 10),\n",
       " (0.9398635625822763, 26),\n",
       " (0.9434762214855852, 1),\n",
       " (0.9465797970445144, 0),\n",
       " (0.9479106325345472, 16),\n",
       " (0.9576016806628308, 18),\n",
       " (0.9576714605795643, 6),\n",
       " (0.9595431028822449, 25),\n",
       " (0.9596341593129576, 13),\n",
       " (0.9615343319101327, 4),\n",
       " (0.9635281658333272, 21),\n",
       " (0.9638897268442101, 23),\n",
       " (0.9650987409714858, 20),\n",
       " (0.974025461722243, 15),\n",
       " (0.9755987102116255, 27),\n",
       " (0.9761505116142708, 9),\n",
       " (0.9762709742374461, 11),\n",
       " (0.9812412103759419, 19),\n",
       " (0.9888929260057168, 7),\n",
       " (1.0, 8),\n",
       " (1.0, 2),\n",
       " (1.0, 12)]"
      ]
     },
     "execution_count": 205,
     "metadata": {},
     "output_type": "execute_result"
    }
   ],
   "source": [
    "result"
   ]
  },
  {
   "cell_type": "code",
   "execution_count": 208,
   "id": "2cd70023",
   "metadata": {},
   "outputs": [],
   "source": [
    "# Nearest Documment to Query Snippet\n",
    "# pd.set_option('display.max_colwidth', None)\n",
    "\n",
    "result_nn = result[0][1]\n",
    "dataset_pcrs[[\"_id\", \"text\"]].iloc[[result_nn]]"
   ]
  },
  {
   "cell_type": "code",
   "execution_count": 214,
   "id": "c7016e65",
   "metadata": {},
   "outputs": [
    {
     "data": {
      "text/html": [
       "<div>\n",
       "<style scoped>\n",
       "    .dataframe tbody tr th:only-of-type {\n",
       "        vertical-align: middle;\n",
       "    }\n",
       "\n",
       "    .dataframe tbody tr th {\n",
       "        vertical-align: top;\n",
       "    }\n",
       "\n",
       "    .dataframe thead th {\n",
       "        text-align: right;\n",
       "    }\n",
       "</style>\n",
       "<table border=\"1\" class=\"dataframe\">\n",
       "  <thead>\n",
       "    <tr style=\"text-align: right;\">\n",
       "      <th></th>\n",
       "      <th>_id</th>\n",
       "      <th>text</th>\n",
       "    </tr>\n",
       "  </thead>\n",
       "  <tbody>\n",
       "    <tr>\n",
       "      <th>3</th>\n",
       "      <td>3</td>\n",
       "      <td>See, there you go again, saying that a moral act is only significantif it is \"voluntary.\"  Why do you think this?And anyway, humans have the ability to disregard some of their instincts.You are attaching too many things to the term \"moral,\" I think.Let's try this:  is it \"good\" that animals of the same speciesdon't kill each other.  Or, do you think this is right? Or do you think that animals are machines, and that nothing they dois either right nor wrong?Those weren't arbitrary killings.  They were slayings related to some sortof mating ritual or whatnot.Yes it was, but I still don't understand your distinctions.  Whatdo you mean by \"consider?\"  Can a small child be moral?  How abouta gorilla?  A dolphin?  A platypus?  Where is the line drawn?  Doesthe being need to be self aware?What *do* you call the mechanism which seems to prevent animals ofthe same species from (arbitrarily) killing each other?  Don'tyou find the fact that they don't at all significant?</td>\n",
       "    </tr>\n",
       "  </tbody>\n",
       "</table>\n",
       "</div>"
      ],
      "text/plain": [
       "   _id  \\\n",
       "3    3   \n",
       "\n",
       "                                                                                                                                                                                                                                                                                                                                                                                                                                                                                                                                                                                                                                                                                                                                                                                                                                                                                                                                                                                                            text  \n",
       "3  See, there you go again, saying that a moral act is only significantif it is \"voluntary.\"  Why do you think this?And anyway, humans have the ability to disregard some of their instincts.You are attaching too many things to the term \"moral,\" I think.Let's try this:  is it \"good\" that animals of the same speciesdon't kill each other.  Or, do you think this is right? Or do you think that animals are machines, and that nothing they dois either right nor wrong?Those weren't arbitrary killings.  They were slayings related to some sortof mating ritual or whatnot.Yes it was, but I still don't understand your distinctions.  Whatdo you mean by \"consider?\"  Can a small child be moral?  How abouta gorilla?  A dolphin?  A platypus?  Where is the line drawn?  Doesthe being need to be self aware?What *do* you call the mechanism which seems to prevent animals ofthe same species from (arbitrarily) killing each other?  Don'tyou find the fact that they don't at all significant?  "
      ]
     },
     "execution_count": 214,
     "metadata": {},
     "output_type": "execute_result"
    }
   ],
   "source": [
    "dataset_pcrs[[\"_id\", \"text\"]].iloc[[result_nn]]"
   ]
  },
  {
   "cell_type": "markdown",
   "id": "639f6be5",
   "metadata": {},
   "source": [
    "### Evaluation"
   ]
  },
  {
   "cell_type": "code",
   "execution_count": 236,
   "id": "94e49fa9",
   "metadata": {},
   "outputs": [],
   "source": [
    "# Modeling Query x Relavance\n",
    "docs = [\"doc_%d\"%i for i in range(len(dataset))]\n",
    "_data = list(zip(dataset.q1.tolist(), dataset.q2.tolist()))\n",
    "_dict = {docs[i]: _data[i] for i in range(len(dataset))}\n",
    "query_relevance = pd.DataFrame(data=_dict, index = [\"Q%d\"%(i+1) for i in range(len(_data[0]))])"
   ]
  }
 ],
 "metadata": {
  "kernelspec": {
   "display_name": "ir_venv",
   "language": "python",
   "name": "ir_venv"
  },
  "language_info": {
   "codemirror_mode": {
    "name": "ipython",
    "version": 3
   },
   "file_extension": ".py",
   "mimetype": "text/x-python",
   "name": "python",
   "nbconvert_exporter": "python",
   "pygments_lexer": "ipython3",
   "version": "3.9.12"
  }
 },
 "nbformat": 4,
 "nbformat_minor": 5
}
