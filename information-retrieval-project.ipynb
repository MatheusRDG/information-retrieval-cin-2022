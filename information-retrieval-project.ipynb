{
 "cells": [
  {
   "cell_type": "markdown",
   "id": "a8bdc85c",
   "metadata": {},
   "source": [
    "# Project 1 - IR CIn UFPE 2022.1\n",
    "\n",
    "Author:\n",
    "\n",
    "Matheus Rodrigues de Souza Félix (matheusrdgsf@gmail.com) \\\n",
    "Rodrigo Melo"
   ]
  },
  {
   "cell_type": "code",
   "execution_count": 38,
   "id": "00e06256",
   "metadata": {},
   "outputs": [
    {
     "name": "stdout",
     "output_type": "stream",
     "text": [
      "Collecting git-python\n",
      "  Downloading git_python-1.0.3-py2.py3-none-any.whl (1.9 kB)\n",
      "Collecting gitpython\n",
      "  Downloading GitPython-3.1.27-py3-none-any.whl (181 kB)\n",
      "Collecting gitdb<5,>=4.0.1\n",
      "  Downloading gitdb-4.0.9-py3-none-any.whl (63 kB)\n",
      "Collecting smmap<6,>=3.0.1\n",
      "  Downloading smmap-5.0.0-py3-none-any.whl (24 kB)\n",
      "Installing collected packages: smmap, gitdb, gitpython, git-python\n",
      "Successfully installed git-python-1.0.3 gitdb-4.0.9 gitpython-3.1.27 smmap-5.0.0\n"
     ]
    }
   ],
   "source": [
    "!pip install git-python"
   ]
  },
  {
   "cell_type": "markdown",
   "id": "b93b2b07",
   "metadata": {},
   "source": [
    "### Libs"
   ]
  },
  {
   "cell_type": "code",
   "execution_count": 57,
   "id": "acf48fc5",
   "metadata": {},
   "outputs": [],
   "source": [
    "import os\n",
    "import pandas as pd\n",
    "from git import Repo\n",
    "import gzip\n",
    "from io import BytesIO\n",
    "import gzip"
   ]
  },
  {
   "cell_type": "markdown",
   "id": "f7c323c7",
   "metadata": {},
   "source": [
    "### Data Collect"
   ]
  },
  {
   "cell_type": "code",
   "execution_count": 91,
   "id": "e181494c",
   "metadata": {},
   "outputs": [],
   "source": [
    "DATA_PATH = \"dataset/scifact-generated-queries\""
   ]
  },
  {
   "cell_type": "code",
   "execution_count": 93,
   "id": "8f421a32",
   "metadata": {},
   "outputs": [],
   "source": [
    "if not os.path.isdir(DATA_PATH):\n",
    "    Repo.clone_from(\"https://huggingface.co/datasets/BeIR/scifact-generated-queries\", \"dataset/scifact-generated-queries\")"
   ]
  },
  {
   "cell_type": "code",
   "execution_count": 101,
   "id": "bbfc73e4",
   "metadata": {},
   "outputs": [],
   "source": [
    "with gzip.open(DATA_PATH+\"/train.jsonl.gz\", 'rb') as f:\n",
    "    file_content = f.read()"
   ]
  },
  {
   "cell_type": "code",
   "execution_count": 108,
   "id": "45a633cc",
   "metadata": {},
   "outputs": [],
   "source": [
    "dataset = pd.read_json(BytesIO(file_content), lines=True)"
   ]
  },
  {
   "cell_type": "code",
   "execution_count": 114,
   "id": "e6cb0e0e",
   "metadata": {},
   "outputs": [
    {
     "data": {
      "text/html": [
       "<div>\n",
       "<style scoped>\n",
       "    .dataframe tbody tr th:only-of-type {\n",
       "        vertical-align: middle;\n",
       "    }\n",
       "\n",
       "    .dataframe tbody tr th {\n",
       "        vertical-align: top;\n",
       "    }\n",
       "\n",
       "    .dataframe thead th {\n",
       "        text-align: right;\n",
       "    }\n",
       "</style>\n",
       "<table border=\"1\" class=\"dataframe\">\n",
       "  <thead>\n",
       "    <tr style=\"text-align: right;\">\n",
       "      <th></th>\n",
       "      <th>title</th>\n",
       "      <th>queries_count</th>\n",
       "    </tr>\n",
       "  </thead>\n",
       "  <tbody>\n",
       "    <tr>\n",
       "      <th>0</th>\n",
       "      <td>PHENIX: a comprehensive Python...</td>\n",
       "      <td>3</td>\n",
       "    </tr>\n",
       "    <tr>\n",
       "      <th>1</th>\n",
       "      <td>DNA methylation and healthy human aging</td>\n",
       "      <td>3</td>\n",
       "    </tr>\n",
       "    <tr>\n",
       "      <th>2</th>\n",
       "      <td>US-SOMO HPLC-SAXS module: dealing with capill...</td>\n",
       "      <td>3</td>\n",
       "    </tr>\n",
       "    <tr>\n",
       "      <th>3</th>\n",
       "      <td>\"Grazing\": a high-risk behavior.</td>\n",
       "      <td>3</td>\n",
       "    </tr>\n",
       "    <tr>\n",
       "      <th>4</th>\n",
       "      <td>\"Natural\" killer cells in the mouse. I. Cytoto...</td>\n",
       "      <td>3</td>\n",
       "    </tr>\n",
       "    <tr>\n",
       "      <th>...</th>\n",
       "      <td>...</td>\n",
       "      <td>...</td>\n",
       "    </tr>\n",
       "    <tr>\n",
       "      <th>5176</th>\n",
       "      <td>β-catenin-independent WNT signaling in basal-l...</td>\n",
       "      <td>3</td>\n",
       "    </tr>\n",
       "    <tr>\n",
       "      <th>5177</th>\n",
       "      <td>β-site amyloid precursor protein-cleaving enzy...</td>\n",
       "      <td>3</td>\n",
       "    </tr>\n",
       "    <tr>\n",
       "      <th>5178</th>\n",
       "      <td>β1 integrin mediates an alternative survival p...</td>\n",
       "      <td>3</td>\n",
       "    </tr>\n",
       "    <tr>\n",
       "      <th>5179</th>\n",
       "      <td>‘Short stature in children - a questionnaire f...</td>\n",
       "      <td>3</td>\n",
       "    </tr>\n",
       "    <tr>\n",
       "      <th>5180</th>\n",
       "      <td>“Rapid-Impact Interventions”: How a Policy of ...</td>\n",
       "      <td>3</td>\n",
       "    </tr>\n",
       "  </tbody>\n",
       "</table>\n",
       "<p>5181 rows × 2 columns</p>\n",
       "</div>"
      ],
      "text/plain": [
       "                                                  title  queries_count\n",
       "0                     PHENIX: a comprehensive Python...              3\n",
       "1               DNA methylation and healthy human aging              3\n",
       "2      US-SOMO HPLC-SAXS module: dealing with capill...              3\n",
       "3                      \"Grazing\": a high-risk behavior.              3\n",
       "4     \"Natural\" killer cells in the mouse. I. Cytoto...              3\n",
       "...                                                 ...            ...\n",
       "5176  β-catenin-independent WNT signaling in basal-l...              3\n",
       "5177  β-site amyloid precursor protein-cleaving enzy...              3\n",
       "5178  β1 integrin mediates an alternative survival p...              3\n",
       "5179  ‘Short stature in children - a questionnaire f...              3\n",
       "5180  “Rapid-Impact Interventions”: How a Policy of ...              3\n",
       "\n",
       "[5181 rows x 2 columns]"
      ]
     },
     "execution_count": 114,
     "metadata": {},
     "output_type": "execute_result"
    }
   ],
   "source": [
    "dataset.groupby([\"title\"]).size().reset_index(name='queries_count')"
   ]
  },
  {
   "cell_type": "markdown",
   "id": "b47c9b7f",
   "metadata": {},
   "source": [
    "## Pre-rocesing Data\n",
    "\n",
    "In this step we will create 5 data models:\n",
    "\n",
    "v1 - Only Tokenization; \\\n",
    "v2 - Only Stopword Filter; \\\n",
    "v3 - Only Stemming; \\\n",
    "v4 - Remove Stopwords and Stemming; \\\n",
    "v5 - Remove Stopworpd and expand words with Synonyms.\n"
   ]
  },
  {
   "cell_type": "code",
   "execution_count": 14,
   "id": "4e67de11",
   "metadata": {},
   "outputs": [
    {
     "name": "stderr",
     "output_type": "stream",
     "text": [
      "fatal: cannot mkdir https://github.com/MatheusRDG/information-retrieval-cin-2022: Invalid argument\n"
     ]
    }
   ],
   "source": []
  },
  {
   "cell_type": "markdown",
   "id": "489658fb",
   "metadata": {},
   "source": [
    "### Vectorizing Data"
   ]
  },
  {
   "cell_type": "code",
   "execution_count": null,
   "id": "57d9c22e",
   "metadata": {},
   "outputs": [],
   "source": []
  },
  {
   "cell_type": "markdown",
   "id": "639f6be5",
   "metadata": {},
   "source": [
    "### Evaluation"
   ]
  },
  {
   "cell_type": "code",
   "execution_count": null,
   "id": "bc4b3eb6",
   "metadata": {},
   "outputs": [],
   "source": []
  }
 ],
 "metadata": {
  "kernelspec": {
   "display_name": "ir_venv",
   "language": "python",
   "name": "ir_venv"
  },
  "language_info": {
   "codemirror_mode": {
    "name": "ipython",
    "version": 3
   },
   "file_extension": ".py",
   "mimetype": "text/x-python",
   "name": "python",
   "nbconvert_exporter": "python",
   "pygments_lexer": "ipython3",
   "version": "3.9.12"
  }
 },
 "nbformat": 4,
 "nbformat_minor": 5
}
